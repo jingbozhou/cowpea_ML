{
 "cells": [
  {
   "cell_type": "code",
   "execution_count": 1,
   "id": "5eabeeb8-9aba-401f-b26f-e963ccd1887d",
   "metadata": {},
   "outputs": [],
   "source": [
    "import os, itertools, subprocess\n",
    "import numpy as np\n",
    "import pandas as pd\n",
    "\n",
    "from mpire import WorkerPool\n",
    "\n",
    "RAW_SNP_PATH = \"/data2/zhoujb/project/cowpea_project/basedXPXLR/snpDir/\"\n",
    "RAW_RES_PATH = \"/data2/zhoujb/project/cowpea_project/basedXPXLR/Result/\"\n",
    "NEW_SNP_PATH = \"/data1/zhoujb/cowpeaSequence/snpDir/\"\n",
    "NEW_RES_PATH = \"/data1/zhoujb/cowpeaSequence/Result/\"\n",
    "REF_PATH = \"/data1/zhoujb/cowpeaSequence/refernce/\"\n",
    "TEMP_PATH = \"/data2/zhoujb/project/cowpea_project/basedXPXLR/templateSNP/\"\n",
    "\n",
    "CROSS_RAW_PATH = \"/data1/zhoujb/cowpeaSequence/Cross_Analysis_Results/\"\n",
    "CROSS_PATH = \"/data1/zhoujb/cowpeaSequence/Cross_Analysis_Results/Cross/\"\n",
    "CROSS_RES_PATH = \"/data1/zhoujb/cowpeaSequence/Cross_Analysis_Results/CrossRes/\""
   ]
  },
  {
   "cell_type": "code",
   "execution_count": 9,
   "id": "9e7c0294-8f85-4781-8a64-3f92b52dd7da",
   "metadata": {},
   "outputs": [],
   "source": [
    "output_file = pd.DataFrame()\n",
    "file_dir = [x for x in os.listdir(CROSS_RES_PATH) if x.endswith(\".cross.res\")]\n",
    "for file_name in file_dir:\n",
    "    tmp_data = pd.read_table(os.path.join(CROSS_RES_PATH, file_name))\n",
    "    tmp_data = tmp_data[tmp_data[\"Delta_score\"]>0]\n",
    "    output_file = pd.concat([output_file, tmp_data], axis=0, ignore_index=True)\n",
    "\n",
    "output_file = output_file.sort_values(by=[\"Delta_score\"], ascending=False)\n",
    "\n",
    "output_file.to_csv(os.path.join(CROSS_RAW_PATH, \"CROSS_rank.txt\"), sep=\"\\t\", index=0)\n",
    "output_file.to_excel(os.path.join(CROSS_RAW_PATH, \"CROSS_rank.xlsx\"), index=0)"
   ]
  },
  {
   "cell_type": "code",
   "execution_count": null,
   "id": "bbd4e11c-eff5-4b67-af21-1309b4a7eaac",
   "metadata": {},
   "outputs": [],
   "source": []
  },
  {
   "cell_type": "code",
   "execution_count": null,
   "id": "3c931f75-bfca-4787-8739-b85d608021d5",
   "metadata": {},
   "outputs": [],
   "source": []
  }
 ],
 "metadata": {
  "kernelspec": {
   "display_name": "Python 3 (ipykernel)",
   "language": "python",
   "name": "python3"
  },
  "language_info": {
   "codemirror_mode": {
    "name": "ipython",
    "version": 3
   },
   "file_extension": ".py",
   "mimetype": "text/x-python",
   "name": "python",
   "nbconvert_exporter": "python",
   "pygments_lexer": "ipython3",
   "version": "3.10.0"
  }
 },
 "nbformat": 4,
 "nbformat_minor": 5
}
