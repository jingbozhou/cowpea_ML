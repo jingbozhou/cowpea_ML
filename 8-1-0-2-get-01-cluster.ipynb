{
 "cells": [
  {
   "cell_type": "code",
   "execution_count": 1,
   "id": "c7e8b0ab-dd15-4598-b67f-14f70508da9a",
   "metadata": {},
   "outputs": [],
   "source": [
    "import os\n",
    "import numpy as np\n",
    "import pandas as pd\n",
    "\n",
    "from mpire import WorkerPool\n",
    "\n",
    "RAW_SNP_PATH = \"/data2/zhoujb/project/cowpea_project/basedXPXLR/snpDir/\"\n",
    "RAW_RES_PATH = \"/data2/zhoujb/project/cowpea_project/basedXPXLR/Result/\"\n",
    "NEW_SNP_PATH = \"/data2/zhoujb/project/cowpea_project/basedXPXLR/offspring/01/snpDir/\"\n",
    "NEW_RES_PATH = \"/data2/zhoujb/project/cowpea_project/basedXPXLR/offspring/01/Result/\"\n",
    "REF_PATH = \"/data1/zhoujb/cowpeaSequence/refernce/\"\n",
    "TEMP_PATH = \"/data2/zhoujb/project/cowpea_project/basedXPXLR/templateSNP/\""
   ]
  },
  {
   "cell_type": "code",
   "execution_count": 2,
   "id": "6d809070-ef77-4d4b-8c22-8cbb907f38ab",
   "metadata": {},
   "outputs": [
    {
     "name": "stderr",
     "output_type": "stream",
     "text": [
      "100%|███████████████████████████████████████████████████████████████████████████████████████████████████████████████████████████████████████████████████████████████████████████████████████████| 805/805 [00:37<00:00,  2.20it/s]\n"
     ]
    },
    {
     "name": "stdout",
     "output_type": "stream",
     "text": [
      "ALL DONE!\n"
     ]
    }
   ],
   "source": [
    "def getIdentity(dir_name):\n",
    "    \n",
    "    tmep_dir = os.path.join(TEMP_PATH, dir_name)\n",
    "    tmep_df = pd.DataFrame()\n",
    "    for tmep_file in os.listdir(tmep_dir):\n",
    "        tmp_file = pd.read_table(os.path.join(tmep_dir, tmep_file), index_col=\"Index\")\n",
    "        tmep_df = pd.concat([tmep_df, tmp_file], axis=1, sort=False)\n",
    "\n",
    "    four_raw = pd.read_table(os.path.join(NEW_SNP_PATH, \"{}.txt\".format(dir_name)), index_col=\"Pos\")\n",
    "    four_raw = four_raw.drop(columns=['Chr'])\n",
    "\n",
    "    if len(four_raw) != len(tmep_df):\n",
    "        raise ValueError(\"{}\".format(dir_name))\n",
    "\n",
    "    tmep_df = tmep_df.loc[four_raw.index]\n",
    "    out_df = pd.DataFrame(columns=four_raw.columns, index=tmep_df.columns)\n",
    "    for col in out_df.columns:\n",
    "        for index in out_df.index:\n",
    "            comb_df = pd.concat([tmep_df[index], four_raw[col]], axis=1, sort=False)\n",
    "            identity = (comb_df[index] == comb_df[col]).sum() / comb_df.shape[0]\n",
    "            out_df.loc[index, col] = identity\n",
    "\n",
    "    out_df.to_csv(os.path.join(NEW_SNP_PATH, \"{}.identity\".format(dir_name)), sep=\"\\t\")\n",
    "    return\n",
    "\n",
    "if __name__ == \"__main__\":\n",
    "    temp_dir = os.listdir(TEMP_PATH)\n",
    "\n",
    "    with WorkerPool(n_jobs=48) as pool:\n",
    "        pool.map(getIdentity, temp_dir, progress_bar=True)\n",
    "\n",
    "    print(\"ALL DONE!\")"
   ]
  },
  {
   "cell_type": "code",
   "execution_count": null,
   "id": "515c0b32-3d8a-4471-8ee9-b8ec2b5c7436",
   "metadata": {},
   "outputs": [],
   "source": []
  },
  {
   "cell_type": "code",
   "execution_count": 3,
   "id": "45ff7657-3ec4-4c14-81f2-9ff8c07567b6",
   "metadata": {},
   "outputs": [
    {
     "name": "stdout",
     "output_type": "stream",
     "text": [
      "ALL DONE!\n"
     ]
    }
   ],
   "source": [
    "raw_gen_df = pd.read_table(os.path.join(RAW_RES_PATH, \"Genotype_by_Hap_ID.tsv\"), \n",
    "                           usecols=['Region_index', 'Chr', 'Start', 'End'], index_col='Region_index')\n",
    "geno_hap_four = raw_gen_df.copy()\n",
    "for index in raw_gen_df.index:\n",
    "    tmp_file = pd.read_table(os.path.join(NEW_SNP_PATH, \"{}.identity\".format(index)), index_col=0)\n",
    "    tmp_hap = tmp_file.idxmax(axis=0)\n",
    "    \n",
    "    for tmp_index in tmp_hap.index:\n",
    "        if tmp_file[tmp_index].max() < 0.5:\n",
    "            tmp_hap.loc[tmp_index] = \"-\"\n",
    "    geno_hap_four.loc[index, tmp_hap.index] = tmp_hap.values\n",
    "\n",
    "geno_hap_four.to_csv(os.path.join(NEW_RES_PATH, \"Genotype_by_Hap_01.tsv\"), sep=\"\\t\")\n",
    "print(\"ALL DONE!\")"
   ]
  },
  {
   "cell_type": "code",
   "execution_count": null,
   "id": "befe2496-3539-4200-9d71-daa52f44d491",
   "metadata": {},
   "outputs": [],
   "source": []
  },
  {
   "cell_type": "code",
   "execution_count": null,
   "id": "c3f9a534-e31f-415a-9532-134b2a7a8f19",
   "metadata": {},
   "outputs": [],
   "source": []
  },
  {
   "cell_type": "code",
   "execution_count": null,
   "id": "331b3e0e-a727-4e7f-8e02-824192400442",
   "metadata": {},
   "outputs": [],
   "source": []
  }
 ],
 "metadata": {
  "kernelspec": {
   "display_name": "Python 3 (ipykernel)",
   "language": "python",
   "name": "python3"
  },
  "language_info": {
   "codemirror_mode": {
    "name": "ipython",
    "version": 3
   },
   "file_extension": ".py",
   "mimetype": "text/x-python",
   "name": "python",
   "nbconvert_exporter": "python",
   "pygments_lexer": "ipython3",
   "version": "3.10.0"
  }
 },
 "nbformat": 4,
 "nbformat_minor": 5
}
