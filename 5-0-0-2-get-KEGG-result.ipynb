{
 "cells": [
  {
   "cell_type": "code",
   "execution_count": 6,
   "id": "79a2e392-c3a0-4bdd-931f-e087656e1c3f",
   "metadata": {},
   "outputs": [],
   "source": [
    "import os, pickle\n",
    "import numpy as np\n",
    "import pandas as pd\n",
    "\n",
    "import gseapy as gp\n",
    "\n",
    "ONTO_PATH = \"/data2/zhoujb/project/cowpea_project/rawData/geneOntology/\"\n",
    "GOKEGG_PATH = \"/data2/zhoujb/project/cowpea_project/basedXPXLR/ML/GOKEGG\""
   ]
  },
  {
   "cell_type": "code",
   "execution_count": 2,
   "id": "bc68893e-d1fa-4ac1-8258-b137c2afeb09",
   "metadata": {},
   "outputs": [],
   "source": [
    "kegg_df = pd.read_table(os.path.join(ONTO_PATH, \"kegg_gene_id.txt\"))\n",
    "kegg_df[\"Term_list\"] = kegg_df[\"Term\"].str.split(\",\")\n",
    "kegg_d = kegg_df[['KEGG_NAME', 'Term_list']].set_index('KEGG_NAME')['Term_list'].to_dict()"
   ]
  },
  {
   "cell_type": "code",
   "execution_count": null,
   "id": "9fbc4c8d-6fc5-495b-b355-ebd538b7c65b",
   "metadata": {},
   "outputs": [],
   "source": []
  },
  {
   "cell_type": "code",
   "execution_count": 3,
   "id": "f98e51dd-e2d2-4107-8ded-d47758023df9",
   "metadata": {},
   "outputs": [
    {
     "name": "stderr",
     "output_type": "stream",
     "text": [
      "2024-07-19 16:08:11,315 [INFO] Input dict object named with gs_ind_0\n",
      "2024-07-19 16:08:11,317 [INFO] Run: gs_ind_0 \n",
      "2024-07-19 16:08:11,378 [INFO] Done.\n",
      "2024-07-19 16:08:11,386 [INFO] Input dict object named with gs_ind_0\n",
      "2024-07-19 16:08:11,388 [INFO] Run: gs_ind_0 \n",
      "2024-07-19 16:08:11,437 [INFO] Done.\n",
      "2024-07-19 16:08:11,448 [INFO] Input dict object named with gs_ind_0\n",
      "2024-07-19 16:08:11,450 [INFO] Run: gs_ind_0 \n",
      "2024-07-19 16:08:11,514 [INFO] Done.\n",
      "2024-07-19 16:08:11,523 [INFO] Input dict object named with gs_ind_0\n",
      "2024-07-19 16:08:11,525 [INFO] Run: gs_ind_0 \n",
      "2024-07-19 16:08:11,561 [INFO] Done.\n",
      "2024-07-19 16:08:11,571 [INFO] Input dict object named with gs_ind_0\n",
      "2024-07-19 16:08:11,575 [INFO] Run: gs_ind_0 \n"
     ]
    },
    {
     "name": "stdout",
     "output_type": "stream",
     "text": [
      "GNP Done\n",
      "PL Done\n",
      "PProtein Done\n",
      "PStarch Done\n"
     ]
    },
    {
     "name": "stderr",
     "output_type": "stream",
     "text": [
      "2024-07-19 16:08:11,612 [INFO] Done.\n",
      "2024-07-19 16:08:11,621 [INFO] Input dict object named with gs_ind_0\n",
      "2024-07-19 16:08:11,623 [INFO] Run: gs_ind_0 \n",
      "2024-07-19 16:08:11,671 [INFO] Done.\n"
     ]
    },
    {
     "name": "stdout",
     "output_type": "stream",
     "text": [
      "PSugar Done\n",
      "TSW Done\n",
      "ALL DONE\n"
     ]
    }
   ],
   "source": [
    "data_term = pd.read_table(os.path.join(GOKEGG_PATH, \"traits_region_gene.txt\"))\n",
    "\n",
    "all_gsea_res = pd.DataFrame()\n",
    "for group in data_term.groupby(\"traits\"):\n",
    "    group_name, group_data = group\n",
    "    gene_list = list(set([str(x) for x in group_data['GeneID'].values]))\n",
    "    \n",
    "    enr2 = gp.enrich(gene_list=gene_list,\n",
    "                 gene_sets=kegg_d, # kegg is a dict object\n",
    "                 background=32563, # or \"hsapiens_gene_ensembl\", or int, or text file, or a list of genes\n",
    "                 outdir=None,\n",
    "                 verbose=True)\n",
    "\n",
    "    tmp_res = enr2.results\n",
    "    tmp_res = tmp_res[tmp_res[\"Adjusted P-value\"]<=0.05].copy()\n",
    "    tmp_res[\"traits\"] = group_name\n",
    "\n",
    "    all_gsea_res = pd.concat([all_gsea_res, tmp_res], axis=0, ignore_index=True)\n",
    "\n",
    "    print(\"{} Done\".format(group_name))\n",
    "\n",
    "print(\"ALL DONE\")"
   ]
  },
  {
   "cell_type": "code",
   "execution_count": 4,
   "id": "3c7d627c-1e7b-406e-8dd8-86bfccb5bccb",
   "metadata": {},
   "outputs": [
    {
     "data": {
      "text/html": [
       "<div>\n",
       "<style scoped>\n",
       "    .dataframe tbody tr th:only-of-type {\n",
       "        vertical-align: middle;\n",
       "    }\n",
       "\n",
       "    .dataframe tbody tr th {\n",
       "        vertical-align: top;\n",
       "    }\n",
       "\n",
       "    .dataframe thead th {\n",
       "        text-align: right;\n",
       "    }\n",
       "</style>\n",
       "<table border=\"1\" class=\"dataframe\">\n",
       "  <thead>\n",
       "    <tr style=\"text-align: right;\">\n",
       "      <th></th>\n",
       "      <th>Gene_set</th>\n",
       "      <th>Term</th>\n",
       "      <th>Overlap</th>\n",
       "      <th>P-value</th>\n",
       "      <th>Adjusted P-value</th>\n",
       "      <th>Odds Ratio</th>\n",
       "      <th>Combined Score</th>\n",
       "      <th>Genes</th>\n",
       "      <th>traits</th>\n",
       "    </tr>\n",
       "  </thead>\n",
       "  <tbody>\n",
       "    <tr>\n",
       "      <th>0</th>\n",
       "      <td>gs_ind_0</td>\n",
       "      <td>Glucosinolate biosynthesis</td>\n",
       "      <td>3/8</td>\n",
       "      <td>0.000317</td>\n",
       "      <td>0.010158</td>\n",
       "      <td>34.329804</td>\n",
       "      <td>276.534931</td>\n",
       "      <td>114179512;114179851;114178551</td>\n",
       "      <td>GNP</td>\n",
       "    </tr>\n",
       "    <tr>\n",
       "      <th>1</th>\n",
       "      <td>gs_ind_0</td>\n",
       "      <td>Pantothenate and CoA biosynthesis</td>\n",
       "      <td>6/45</td>\n",
       "      <td>0.000161</td>\n",
       "      <td>0.007745</td>\n",
       "      <td>8.913014</td>\n",
       "      <td>77.828166</td>\n",
       "      <td>114183207;114185898;114178474;114179851;114178...</td>\n",
       "      <td>GNP</td>\n",
       "    </tr>\n",
       "    <tr>\n",
       "      <th>2</th>\n",
       "      <td>gs_ind_0</td>\n",
       "      <td>Sesquiterpenoid and triterpenoid biosynthesis</td>\n",
       "      <td>5/26</td>\n",
       "      <td>0.000096</td>\n",
       "      <td>0.007745</td>\n",
       "      <td>13.840163</td>\n",
       "      <td>128.056305</td>\n",
       "      <td>114177509;114178712;114178713;114196187;114179677</td>\n",
       "      <td>GNP</td>\n",
       "    </tr>\n",
       "    <tr>\n",
       "      <th>3</th>\n",
       "      <td>gs_ind_0</td>\n",
       "      <td>Metabolic pathways</td>\n",
       "      <td>67/2665</td>\n",
       "      <td>0.000647</td>\n",
       "      <td>0.035352</td>\n",
       "      <td>1.587050</td>\n",
       "      <td>11.654833</td>\n",
       "      <td>114181889;114178440;114193674;114173069;114179...</td>\n",
       "      <td>PL</td>\n",
       "    </tr>\n",
       "    <tr>\n",
       "      <th>4</th>\n",
       "      <td>gs_ind_0</td>\n",
       "      <td>Sesquiterpenoid and triterpenoid biosynthesis</td>\n",
       "      <td>4/26</td>\n",
       "      <td>0.000884</td>\n",
       "      <td>0.035352</td>\n",
       "      <td>11.751515</td>\n",
       "      <td>82.628096</td>\n",
       "      <td>114178712;114178713;114177509;114179677</td>\n",
       "      <td>PL</td>\n",
       "    </tr>\n",
       "  </tbody>\n",
       "</table>\n",
       "</div>"
      ],
      "text/plain": [
       "   Gene_set                                           Term  Overlap   P-value  \\\n",
       "0  gs_ind_0                     Glucosinolate biosynthesis      3/8  0.000317   \n",
       "1  gs_ind_0              Pantothenate and CoA biosynthesis     6/45  0.000161   \n",
       "2  gs_ind_0  Sesquiterpenoid and triterpenoid biosynthesis     5/26  0.000096   \n",
       "3  gs_ind_0                             Metabolic pathways  67/2665  0.000647   \n",
       "4  gs_ind_0  Sesquiterpenoid and triterpenoid biosynthesis     4/26  0.000884   \n",
       "\n",
       "   Adjusted P-value  Odds Ratio  Combined Score  \\\n",
       "0          0.010158   34.329804      276.534931   \n",
       "1          0.007745    8.913014       77.828166   \n",
       "2          0.007745   13.840163      128.056305   \n",
       "3          0.035352    1.587050       11.654833   \n",
       "4          0.035352   11.751515       82.628096   \n",
       "\n",
       "                                               Genes traits  \n",
       "0                      114179512;114179851;114178551    GNP  \n",
       "1  114183207;114185898;114178474;114179851;114178...    GNP  \n",
       "2  114177509;114178712;114178713;114196187;114179677    GNP  \n",
       "3  114181889;114178440;114193674;114173069;114179...     PL  \n",
       "4            114178712;114178713;114177509;114179677     PL  "
      ]
     },
     "execution_count": 4,
     "metadata": {},
     "output_type": "execute_result"
    }
   ],
   "source": [
    "all_gsea_res"
   ]
  },
  {
   "cell_type": "code",
   "execution_count": 7,
   "id": "d97ebe9d-d331-48f9-8c0d-320f1eff95a1",
   "metadata": {},
   "outputs": [],
   "source": [
    "with open(os.path.join(GOKEGG_PATH, \"kegg_gsea_res.pkl\"), \"wb\") as f:\n",
    "    pickle.dump(all_gsea_res, f)"
   ]
  },
  {
   "cell_type": "code",
   "execution_count": null,
   "id": "0e10df10-047e-4a9d-9ef8-dddb2ae01352",
   "metadata": {},
   "outputs": [],
   "source": []
  },
  {
   "cell_type": "code",
   "execution_count": null,
   "id": "c8c444a0-462c-43bb-b41f-14f52a3f85f1",
   "metadata": {},
   "outputs": [],
   "source": []
  },
  {
   "cell_type": "code",
   "execution_count": null,
   "id": "6f74e542-ed1b-482e-b061-2b3f2078afe2",
   "metadata": {},
   "outputs": [],
   "source": []
  }
 ],
 "metadata": {
  "kernelspec": {
   "display_name": "Python 3 (ipykernel)",
   "language": "python",
   "name": "python3"
  },
  "language_info": {
   "codemirror_mode": {
    "name": "ipython",
    "version": 3
   },
   "file_extension": ".py",
   "mimetype": "text/x-python",
   "name": "python",
   "nbconvert_exporter": "python",
   "pygments_lexer": "ipython3",
   "version": "3.10.0"
  }
 },
 "nbformat": 4,
 "nbformat_minor": 5
}
