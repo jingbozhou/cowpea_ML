{
 "cells": [
  {
   "cell_type": "code",
   "execution_count": 6,
   "id": "de08f6e3-5132-4323-921f-c8c36a9cf7c7",
   "metadata": {},
   "outputs": [],
   "source": [
    "import os\n",
    "import numpy as np\n",
    "import pandas as pd\n",
    "\n",
    "from mpire import WorkerPool\n",
    "\n",
    "REF_PATH = \"/data1/zhoujb/cowpeaSequence/refernce/\"\n",
    "RAW_SNP_PATH = \"/data2/zhoujb/project/cowpea_project/basedXPXLR/snpDir/\""
   ]
  },
  {
   "cell_type": "code",
   "execution_count": 2,
   "id": "d9843c67-0049-42c8-99cc-aaddbce4c70e",
   "metadata": {},
   "outputs": [
    {
     "name": "stdout",
     "output_type": "stream",
     "text": [
      "Chr01 DONE\n",
      "Chr02 DONE\n",
      "Chr03 DONE\n",
      "Chr04 DONE\n",
      "Chr05 DONE\n",
      "Chr06 DONE\n",
      "Chr07 DONE\n",
      "Chr08 DONE\n",
      "Chr09 DONE\n",
      "Chr10 DONE\n",
      "Chr11 DONE\n",
      "ALL DONE\n"
     ]
    }
   ],
   "source": [
    "\"\"\"\n",
    "将参考基因组变成Pos\n",
    "\"\"\"\n",
    "chr_name_map = {\"CM072825.1\":\"Chr01\", \"CM072826.1\":\"Chr02\", \"CM072827.1\":\"Chr03\", \n",
    "                \"CM072828.1\":\"Chr04\", \"CM072829.1\":\"Chr05\", \"CM072830.1\":\"Chr06\", \n",
    "                \"CM072831.1\":\"Chr07\", \"CM072832.1\":\"Chr08\", \"CM072833.1\":\"Chr09\", \n",
    "                \"CM072834.1\":\"Chr10\", \"CM072835.1\":\"Chr11\"}\n",
    "\n",
    "seq = \"\"\n",
    "with open(os.path.join(REF_PATH, \"G98.fna\")) as f:\n",
    "    for line in f:\n",
    "        line = line.rstrip()\n",
    "        if (line.startswith(\">\")) and (seq == \"\"):\n",
    "            header = line.split(\" \")[0][1:]\n",
    "        elif line.startswith(\">\"):\n",
    "            if header in chr_name_map:\n",
    "                with open(os.path.join(REF_PATH, \"chrPos/{}.pos\".format(chr_name_map[header])), \"w\") as out_f:\n",
    "                    for pos, val in enumerate(list(seq)):\n",
    "                        print(\"\\t\".join([str(pos+1), val.upper()]), file=out_f)\n",
    "                \n",
    "                print(\"{} DONE\".format(chr_name_map[header]))\n",
    "                \n",
    "                seq = \"\"\n",
    "                header = line.split(\" \")[0][1:]\n",
    "        else:\n",
    "            seq += line\n",
    "\n",
    "print(\"ALL DONE\")"
   ]
  },
  {
   "cell_type": "code",
   "execution_count": 11,
   "id": "24e27359-441f-411a-8bee-16504f250360",
   "metadata": {},
   "outputs": [
    {
     "name": "stderr",
     "output_type": "stream",
     "text": [
      "100%|███████████████████████████████████████████████████████████████████████████████████████████████████████████████████████████████████████████████████████████████████████████████████████████| 902/902 [05:04<00:00,  1.16it/s]\n"
     ]
    }
   ],
   "source": [
    "# 将所有区间对应Pos写成文件\n",
    "def getRefPos(file_name):\n",
    "    raw_snp = pd.read_table(os.path.join(RAW_SNP_PATH, file_name), usecols=['Pos', 'Chr'], index_col=\"Pos\")\n",
    "    ref_file = pd.read_table(os.path.join(REF_PATH, \"chrPos/{}.pos\".format(file_name.split(\"_\")[0])), \n",
    "                                          header=None, names=[\"Pos\", \"Val\"], index_col=\"Pos\")\n",
    "    ref_file = ref_file.loc[raw_snp.index]\n",
    "    ref_file.to_csv(os.path.join(REF_PATH, \"cowpeaRef/{}.pos\".format(file_name.split(\".\")[0])), sep=\"\\t\")\n",
    "    return\n",
    "\n",
    "if __name__ == \"__main__\":\n",
    "    file_list = os.listdir(RAW_SNP_PATH)\n",
    "\n",
    "    with WorkerPool(n_jobs=48) as pool:\n",
    "        pool.map(getRefPos, file_list, progress_bar=True)"
   ]
  },
  {
   "cell_type": "code",
   "execution_count": null,
   "id": "21854002-a330-4277-853f-bfb039f0a88f",
   "metadata": {},
   "outputs": [],
   "source": []
  },
  {
   "cell_type": "code",
   "execution_count": null,
   "id": "43ccc037-6b9f-4b09-800f-6b4ce15c45a2",
   "metadata": {},
   "outputs": [],
   "source": []
  },
  {
   "cell_type": "code",
   "execution_count": null,
   "id": "f69efbec-edf5-443e-b08f-a7c20d8c91ba",
   "metadata": {},
   "outputs": [],
   "source": []
  },
  {
   "cell_type": "code",
   "execution_count": null,
   "id": "7d6aedd2-31bc-460a-b3cb-d3c51efc2c09",
   "metadata": {},
   "outputs": [],
   "source": []
  }
 ],
 "metadata": {
  "kernelspec": {
   "display_name": "Python 3 (ipykernel)",
   "language": "python",
   "name": "python3"
  },
  "language_info": {
   "codemirror_mode": {
    "name": "ipython",
    "version": 3
   },
   "file_extension": ".py",
   "mimetype": "text/x-python",
   "name": "python",
   "nbconvert_exporter": "python",
   "pygments_lexer": "ipython3",
   "version": "3.10.0"
  }
 },
 "nbformat": 4,
 "nbformat_minor": 5
}
