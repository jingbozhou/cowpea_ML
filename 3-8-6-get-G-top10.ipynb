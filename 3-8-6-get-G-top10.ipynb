{
 "cells": [
  {
   "cell_type": "code",
   "execution_count": 1,
   "id": "83294a2d-dcbe-410b-8853-18de4a6e29f0",
   "metadata": {},
   "outputs": [],
   "source": [
    "import os, itertools, subprocess\n",
    "import numpy as np\n",
    "import pandas as pd\n",
    "\n",
    "from mpire import WorkerPool\n",
    "\n",
    "RAW_PATH = \"/data2/zhoujb/project/cowpea_project/rawData/\"\n",
    "RES_PATH = \"/data2/zhoujb/project/cowpea_project/basedXPXLR/Result/\"\n",
    "CROSS_PATH = \"/data2/zhoujb/project/cowpea_project/basedXPXLR/Cross_Analysis_Results/rawCross/\"\n",
    "CROSS_RES_PATH = \"/data2/zhoujb/project/cowpea_project/basedXPXLR/Cross_Analysis_Results/GCross/CrossRes/\"\n",
    "G_CROSS_PATH = \"/data2/zhoujb/project/cowpea_project/basedXPXLR/Cross_Analysis_Results/GCross/\""
   ]
  },
  {
   "cell_type": "code",
   "execution_count": 3,
   "id": "224425d8-6199-4f7f-b990-6eb8abb7a88c",
   "metadata": {},
   "outputs": [],
   "source": [
    "output_file = pd.DataFrame()\n",
    "file_dir = os.listdir(CROSS_RES_PATH)\n",
    "for file_name in file_dir:\n",
    "    tmp_data = pd.read_table(os.path.join(CROSS_RES_PATH, file_name))\n",
    "    tmp_data = tmp_data[tmp_data[\"Delta_score\"]>0]\n",
    "    tmp_data = tmp_data.head(10)\n",
    "    output_file = pd.concat([output_file, tmp_data], axis=0, ignore_index=True)\n",
    "\n",
    "output_file.to_csv(os.path.join(G_CROSS_PATH, \"G_P1_P2_CROSS_TOP10.txt\"), sep=\"\\t\", index=0)\n",
    "\n",
    "output_file[[\"P1\", \"P2\"]].to_csv(os.path.join(G_CROSS_PATH, \"G_P1_P2_TOP10.txt\"), sep=\"\\t\", index=0)"
   ]
  },
  {
   "cell_type": "code",
   "execution_count": null,
   "id": "f24db3d3-b981-473e-ad43-cf21800b86ac",
   "metadata": {},
   "outputs": [],
   "source": []
  },
  {
   "cell_type": "code",
   "execution_count": 4,
   "id": "901757c9-56e1-4ca9-a7b7-36241f8e4287",
   "metadata": {},
   "outputs": [],
   "source": [
    "p1_p2_info = pd.read_table(os.path.join(G_CROSS_PATH, \"G_P1_P2_CROSS_TOP10.txt\"))\n",
    "p2_info = pd.DataFrame(columns=[\"P2\", \"P2_score\", \"P2_donate_times\", \n",
    "                                \"Optimal_score_mean\", \"Delta_score_mean\", \"Same_mean\", \"Keep_mean\", \"Replaced_by_P2_mean\"])\n",
    "for group in p1_p2_info.groupby(\"P2\"):\n",
    "    group_name, group_data = group\n",
    "    p2_score = group_data[\"P2_score\"].mean()\n",
    "    p2_donate_times = len(group_data)\n",
    "    optimal_score_mean = group_data['Optimal_score'].mean()\n",
    "    delta_score_mean = group_data['Delta_score'].mean()\n",
    "    same_mean = group_data['Same'].mean()\n",
    "    keep_mean = group_data['Keep'].mean()\n",
    "    replaced_by_p2_mean = group_data['Replaced_by_P2'].mean()\n",
    "    p2_info.loc[len(p2_info)] = [group_name, p2_score, p2_donate_times, \n",
    "                                 optimal_score_mean, delta_score_mean, same_mean, keep_mean, replaced_by_p2_mean]\n",
    "    #print(group_name, len(group_data))\n",
    "\n",
    "p2_info = p2_info.sort_values(by=[\"P2_donate_times\"], ascending=[False])\n",
    "p2_info.to_csv(os.path.join(G_CROSS_PATH, \"G_TOP10_P2_info.txt\"), sep=\"\\t\", index=0)"
   ]
  },
  {
   "cell_type": "code",
   "execution_count": null,
   "id": "89b3c9b5-fb83-41e1-9e25-3cf964f20bad",
   "metadata": {},
   "outputs": [],
   "source": []
  },
  {
   "cell_type": "code",
   "execution_count": 3,
   "id": "089fd852-4bfb-4b7e-8fcb-b519e1bdffcd",
   "metadata": {},
   "outputs": [],
   "source": [
    "p2_info = pd.read_table(os.path.join(G_CROSS_PATH, \"G_TOP10_P2_info.txt\"))\n",
    "for index in p2_info.head(10).index:\n",
    "    p2_name = p2_info.loc[index, \"P2\"]\n",
    "    tmp_file = pd.read_table(os.path.join(CROSS_RES_PATH, \"{}.cross.res\".format(p2_name)))\n",
    "    tmp_file.to_excel(os.path.join(G_CROSS_PATH, \"GTmpFile/{}_cross_res.xlsx\".format(p2_name)), index=0)\n",
    "    del p2_name, tmp_file"
   ]
  },
  {
   "cell_type": "code",
   "execution_count": null,
   "id": "13c06d0f-a588-4a4f-9bcf-6f969b17eabc",
   "metadata": {},
   "outputs": [],
   "source": []
  },
  {
   "cell_type": "code",
   "execution_count": null,
   "id": "0963de04-0b2d-4eb3-88ec-0076a5482b09",
   "metadata": {},
   "outputs": [],
   "source": []
  }
 ],
 "metadata": {
  "kernelspec": {
   "display_name": "Python 3 (ipykernel)",
   "language": "python",
   "name": "python3"
  },
  "language_info": {
   "codemirror_mode": {
    "name": "ipython",
    "version": 3
   },
   "file_extension": ".py",
   "mimetype": "text/x-python",
   "name": "python",
   "nbconvert_exporter": "python",
   "pygments_lexer": "ipython3",
   "version": "3.10.0"
  }
 },
 "nbformat": 4,
 "nbformat_minor": 5
}
