{
 "cells": [
  {
   "cell_type": "code",
   "execution_count": 1,
   "id": "136dd8b5-a2c4-4db4-b06f-a04faaa360a6",
   "metadata": {},
   "outputs": [],
   "source": [
    "import os, itertools, subprocess\n",
    "import numpy as np\n",
    "import pandas as pd\n",
    "\n",
    "from mpire import WorkerPool\n",
    "\n",
    "RAW_PATH = \"/data2/zhoujb/project/cowpea_project/rawData/\"\n",
    "RES_PATH = \"/data2/zhoujb/project/cowpea_project/basedXPXLR/Result/\"\n",
    "CROSS_PATH = \"/data2/zhoujb/project/cowpea_project/basedXPXLR/Cross_Analysis_Results/rawCross/\"\n",
    "CROSS_RES_PATH = \"/data2/zhoujb/project/cowpea_project/basedXPXLR/Cross_Analysis_Results/VLCross/CrossRes/\"\n",
    "VL_CROSS_PATH = \"/data2/zhoujb/project/cowpea_project/basedXPXLR/Cross_Analysis_Results/VLCross/\""
   ]
  },
  {
   "cell_type": "code",
   "execution_count": 3,
   "id": "f4b131f8-9d71-4ae3-98d9-5fea739e083c",
   "metadata": {},
   "outputs": [],
   "source": [
    "output_file = pd.DataFrame()\n",
    "file_dir = os.listdir(CROSS_RES_PATH)\n",
    "for file_name in file_dir:\n",
    "    tmp_data = pd.read_table(os.path.join(CROSS_RES_PATH, file_name))\n",
    "    tmp_data = tmp_data[tmp_data[\"Delta_score\"]>0]\n",
    "    tmp_data = tmp_data.head(10)\n",
    "    output_file = pd.concat([output_file, tmp_data], axis=0, ignore_index=True)\n",
    "\n",
    "output_file.to_csv(os.path.join(VL_CROSS_PATH, \"VL_P1_P2_CROSS_TOP10.txt\"), sep=\"\\t\", index=0)\n",
    "\n",
    "output_file[[\"P1\", \"P2\"]].to_csv(os.path.join(VL_CROSS_PATH, \"VL_P1_P2_TOP10.txt\"), sep=\"\\t\", index=0)"
   ]
  },
  {
   "cell_type": "code",
   "execution_count": null,
   "id": "f64dafd2-4966-4420-8835-f36ad701b9ab",
   "metadata": {},
   "outputs": [],
   "source": []
  },
  {
   "cell_type": "code",
   "execution_count": 4,
   "id": "51df2f93-5251-499d-9ff8-08dee1414a5b",
   "metadata": {},
   "outputs": [],
   "source": [
    "p1_p2_info = pd.read_table(os.path.join(VL_CROSS_PATH, \"VL_P1_P2_CROSS_TOP10.txt\"))\n",
    "p2_info = pd.DataFrame(columns=[\"P2\", \"P2_score\", \"P2_donate_times\", \n",
    "                                \"Optimal_score_mean\", \"Delta_score_mean\", \"Same_mean\", \"Keep_mean\", \"Replaced_by_P2_mean\"])\n",
    "for group in p1_p2_info.groupby(\"P2\"):\n",
    "    group_name, group_data = group\n",
    "    p2_score = group_data[\"P2_score\"].mean()\n",
    "    p2_donate_times = len(group_data)\n",
    "    optimal_score_mean = group_data['Optimal_score'].mean()\n",
    "    delta_score_mean = group_data['Delta_score'].mean()\n",
    "    same_mean = group_data['Same'].mean()\n",
    "    keep_mean = group_data['Keep'].mean()\n",
    "    replaced_by_p2_mean = group_data['Replaced_by_P2'].mean()\n",
    "    p2_info.loc[len(p2_info)] = [group_name, p2_score, p2_donate_times, \n",
    "                                 optimal_score_mean, delta_score_mean, same_mean, keep_mean, replaced_by_p2_mean]\n",
    "    #print(group_name, len(group_data))\n",
    "\n",
    "p2_info = p2_info.sort_values(by=[\"P2_donate_times\"], ascending=[False])\n",
    "p2_info.to_csv(os.path.join(VL_CROSS_PATH, \"VL_TOP10_P2_info.txt\"), sep=\"\\t\", index=0)"
   ]
  },
  {
   "cell_type": "code",
   "execution_count": null,
   "id": "f565aecc-4f13-4de8-9223-5782ac91e607",
   "metadata": {},
   "outputs": [],
   "source": []
  },
  {
   "cell_type": "code",
   "execution_count": 11,
   "id": "31b332f3-c303-46de-928d-f0240320a9cd",
   "metadata": {},
   "outputs": [],
   "source": [
    "p2_info = pd.read_table(os.path.join(VL_CROSS_PATH, \"VL_TOP10_P2_info.txt\"))\n",
    "for index in p2_info.head(10).index:\n",
    "    p2_name = p2_info.loc[index, \"P2\"]\n",
    "    tmp_file = pd.read_table(os.path.join(CROSS_RES_PATH, \"{}.cross.res\".format(p2_name)))\n",
    "    tmp_file.to_excel(os.path.join(VL_CROSS_PATH, \"tmpFile/{}_cross_res.xlsx\".format(p2_name)), index=0)\n",
    "    del p2_name, tmp_file"
   ]
  },
  {
   "cell_type": "code",
   "execution_count": null,
   "id": "1b3c0da3-56da-4cf3-845b-49ca2507f0a5",
   "metadata": {},
   "outputs": [],
   "source": []
  },
  {
   "cell_type": "code",
   "execution_count": null,
   "id": "b5ba3d4e-24f1-45a8-92f6-7a16e772e6a4",
   "metadata": {},
   "outputs": [],
   "source": []
  },
  {
   "cell_type": "code",
   "execution_count": null,
   "id": "a2e5bec8-61e5-4175-adbf-bff37cc3a026",
   "metadata": {},
   "outputs": [],
   "source": []
  },
  {
   "cell_type": "code",
   "execution_count": null,
   "id": "c96edff8-732b-419d-9301-6245fd33149f",
   "metadata": {},
   "outputs": [],
   "source": []
  }
 ],
 "metadata": {
  "kernelspec": {
   "display_name": "Python 3 (ipykernel)",
   "language": "python",
   "name": "python3"
  },
  "language_info": {
   "codemirror_mode": {
    "name": "ipython",
    "version": 3
   },
   "file_extension": ".py",
   "mimetype": "text/x-python",
   "name": "python",
   "nbconvert_exporter": "python",
   "pygments_lexer": "ipython3",
   "version": "3.10.0"
  }
 },
 "nbformat": 4,
 "nbformat_minor": 5
}
