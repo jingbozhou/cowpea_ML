{
 "cells": [
  {
   "cell_type": "code",
   "execution_count": 1,
   "id": "2e42544c-5fbd-4bdf-8d63-70e54ddcbe61",
   "metadata": {},
   "outputs": [],
   "source": [
    "import os, itertools, subprocess\n",
    "import numpy as np\n",
    "import pandas as pd\n",
    "\n",
    "from mpire import WorkerPool\n",
    "\n",
    "RAW_PATH = \"/data2/zhoujb/project/cowpea_project/rawData/\"\n",
    "RES_PATH = \"/data2/zhoujb/project/cowpea_project/basedXPXLR/Result/\"\n",
    "CROSS_PATH = \"/data2/zhoujb/project/cowpea_project/basedXPXLR/Cross_Analysis_Results/rawCross/\"\n",
    "CROSS_RES_PATH = \"/data2/zhoujb/project/cowpea_project/basedXPXLR/Cross_Analysis_Results/CrossRes/\"\n",
    "G_CROSS_PATH = \"/data2/zhoujb/project/cowpea_project/basedXPXLR/Cross_Analysis_Results/GCross/\""
   ]
  },
  {
   "cell_type": "code",
   "execution_count": 2,
   "id": "44ed515e-2864-460f-99d0-cbb0f28b81c8",
   "metadata": {},
   "outputs": [
    {
     "name": "stderr",
     "output_type": "stream",
     "text": [
      "100%|███████████████████████████████████████████████████████████████████████████████████████████████████████████████████████████████████████████████████████████████████████| 87/87 [00:14<00:00, 11.33it/s]"
     ]
    },
    {
     "name": "stdout",
     "output_type": "stream",
     "text": [
      "ALL DONE!\n"
     ]
    },
    {
     "name": "stderr",
     "output_type": "stream",
     "text": [
      "\n"
     ]
    }
   ],
   "source": [
    "def getGCrossRes(p1_name):\n",
    "    \n",
    "    output_file = pd.DataFrame(columns=[\"P1\", \"P2\", \"P1_score\", \"P2_score\", \"Optimal_score\", \n",
    "                                        \"Delta_score\", \"Same\", \"Keep\", \"Replaced_by_P2\"])\n",
    "    \n",
    "    haplotype_score_info = pd.read_table(os.path.join(RES_PATH, \"Haplotype_Score_Info.tsv\"), index_col=\"Haplotype_ID\")\n",
    "    haplotype_score_info = haplotype_score_info['Hap_Score.by_Total_pop'].copy()\n",
    "    \n",
    "    samp_score_info = pd.read_table(os.path.join(RES_PATH, \"Samples_Score_Info.tsv\"))\n",
    "    #samp_list = samp_score_info[\"Sample\"].to_list()\n",
    "    detail_info = pd.read_excel(os.path.join(RAW_PATH, \"Detail_information_344.xlsx\"), index_col=\"Genotype No.\")\n",
    "    detail_info[\"Type\"] = detail_info[\"Types\"].map({'Grain':\"G\", 'V-landrace':\"VL\", '-':\"NA\", 'V-cultivar':\"VC\"})\n",
    "    samp_list = detail_info[detail_info[\"Type\"]==\"G\"].index.to_list()\n",
    "    samp_list.remove(p1_name)\n",
    "    \n",
    "    for item in samp_list:\n",
    "        p1_score = samp_score_info.loc[samp_score_info[\"Sample\"]==p1_name][\"Hap_Score.by_Total_pop\"].values[0]\n",
    "        p2_score = samp_score_info.loc[samp_score_info[\"Sample\"]==item][\"Hap_Score.by_Total_pop\"].values[0]\n",
    "    \n",
    "        file_path = os.path.join(CROSS_PATH, \"{}/{}_{}.Cross.Info\".format(p1_name, p1_name, item))\n",
    "        raw_tmp_data = pd.read_table(file_path)\n",
    "\n",
    "        opt_hap_list = [x for x in raw_tmp_data[\"Optimal_Haplotype\"].to_list() if x != \"-\"]\n",
    "        opt_hap_score = haplotype_score_info.loc[opt_hap_list].sum()/854.768527747741*100\n",
    "\n",
    "        delta_ind_score = opt_hap_score - p1_score\n",
    "\n",
    "        same_num = raw_tmp_data[raw_tmp_data[\"P1_Breeding_Operation\"]==\"Same\"].shape[0]\n",
    "        keep_num = raw_tmp_data[raw_tmp_data[\"P1_Breeding_Operation\"]==\"Keep\"].shape[0]\n",
    "        replace_num = raw_tmp_data[raw_tmp_data[\"P1_Breeding_Operation\"]==\"Replaced_by_P2\"].shape[0]\n",
    "\n",
    "        output_file.loc[len(output_file)] = [p1_name, item, p1_score, p2_score, opt_hap_score, \n",
    "                                             delta_ind_score, same_num, keep_num, replace_num]\n",
    "\n",
    "    output_file = output_file.sort_values(by=[\"Optimal_score\"], ascending=[False])\n",
    "    output_file.to_csv(os.path.join(G_CROSS_PATH, \"CrossRes/{}.cross.res\".format(p1_name)), index=0, sep=\"\\t\")\n",
    "    return\n",
    "\n",
    "if __name__ == \"__main__\":\n",
    "    detail_info = pd.read_excel(os.path.join(RAW_PATH, \"Detail_information_344.xlsx\"), index_col=\"Genotype No.\")\n",
    "    detail_info[\"Type\"] = detail_info[\"Types\"].map({'Grain':\"G\", 'V-landrace':\"VL\", '-':\"NA\", 'V-cultivar':\"VC\"})\n",
    "    p1_sample_list = detail_info[detail_info[\"Type\"]==\"G\"].index.to_list()\n",
    "\n",
    "    with WorkerPool(n_jobs=24) as pool:\n",
    "        pool.map(getGCrossRes, p1_sample_list, progress_bar=True)\n",
    "    \n",
    "    print(\"ALL DONE!\")"
   ]
  },
  {
   "cell_type": "code",
   "execution_count": null,
   "id": "b3b0dab2-f6b9-4786-a5cc-d5827fbfd5d1",
   "metadata": {},
   "outputs": [],
   "source": []
  }
 ],
 "metadata": {
  "kernelspec": {
   "display_name": "Python 3 (ipykernel)",
   "language": "python",
   "name": "python3"
  },
  "language_info": {
   "codemirror_mode": {
    "name": "ipython",
    "version": 3
   },
   "file_extension": ".py",
   "mimetype": "text/x-python",
   "name": "python",
   "nbconvert_exporter": "python",
   "pygments_lexer": "ipython3",
   "version": "3.11.5"
  }
 },
 "nbformat": 4,
 "nbformat_minor": 5
}
