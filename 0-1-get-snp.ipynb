{
 "cells": [
  {
   "cell_type": "code",
   "execution_count": 1,
   "id": "7ee13fa4-ba23-4232-a905-765ec8be6eda",
   "metadata": {},
   "outputs": [],
   "source": [
    "import os, collections\n",
    "import numpy as np\n",
    "import pandas as pd\n",
    "\n",
    "from mpire import WorkerPool\n",
    "\n",
    "RAW_PATH = \"/data2/zhoujb/project/cowpea_project/rawData/\"\n",
    "SNP_PATH = \"/data2/zhoujb/project/cowpea_project/basedXPXLR/snpDir/\""
   ]
  },
  {
   "cell_type": "code",
   "execution_count": 2,
   "id": "9cc958d0-c657-48d7-a2e7-1db7bdb16149",
   "metadata": {},
   "outputs": [
    {
     "name": "stderr",
     "output_type": "stream",
     "text": [
      "100%|██████████████████████████████████████████████████████████████████████████████████████████████████████████████████████████████████████████████████████████████████████████████████████████| 948/948 [02:15<00:00,  3.86it/s]"
     ]
    },
    {
     "name": "stdout",
     "output_type": "stream",
     "text": [
      "ALL DONE!\n"
     ]
    },
    {
     "name": "stderr",
     "output_type": "stream",
     "text": [
      "\n"
     ]
    }
   ],
   "source": [
    "def run_getrawSNP(chr_name, from_bp, end_bp):\n",
    "    \n",
    "    chr_snp_file = pd.read_table(os.path.join(RAW_PATH, \"{}.snplist\".format(chr_name)))\n",
    "    chr_snp_file = chr_snp_file.sort_values(by=[\"Pos\"])\n",
    "\n",
    "    keep_index = []\n",
    "    for index in chr_snp_file.index:\n",
    "        tmp_pos = int(chr_snp_file.loc[index, \"Pos\"])\n",
    "        if tmp_pos > end_bp:\n",
    "            break\n",
    "        elif tmp_pos < from_bp:\n",
    "            continue\n",
    "        else:\n",
    "            # Remove snp threshold 20%\n",
    "            snp_list = chr_snp_file.loc[index].values[2:]\n",
    "            count_d = collections.Counter(snp_list)\n",
    "            if (count_d[\"A\"] + count_d[\"T\"] + count_d[\"C\"] + count_d[\"G\"]) / len(snp_list) >= 0.8:\n",
    "                keep_index.append(index)\n",
    "\n",
    "    if len(keep_index) > 10:\n",
    "        # Remove sample\n",
    "        tmp_data = chr_snp_file.loc[keep_index].copy()\n",
    "        rm_sample = []\n",
    "        for col in tmp_data.columns[2:]:\n",
    "            tmp_d = collections.Counter(tmp_data[col].values)\n",
    "            if (tmp_d[\"A\"] + tmp_d[\"T\"] + tmp_d[\"C\"] + tmp_d[\"G\"]) / sum(tmp_d.values()) < 0.8:\n",
    "                rm_sample.append(col)\n",
    "\n",
    "        tmp_data = tmp_data.drop(columns=rm_sample)\n",
    "        tmp_data = tmp_data.rename(columns={\"#Chr\":\"Chr\"})\n",
    "        tmp_data.to_csv(os.path.join(SNP_PATH, \"{}_{}_{}.txt\".format(chr_name, from_bp, end_bp)), sep=\"\\t\", index=0)\n",
    "    return\n",
    "\n",
    "if __name__ == \"__main__\":\n",
    "    input_list = []\n",
    "    region_info = pd.read_table(os.path.join(RAW_PATH, \"XP-CLR_region.txt\"))\n",
    "    for index in region_info.index:\n",
    "        Chr = region_info.loc[index, \"Chromosome\"]\n",
    "        Start = region_info.loc[index, \"Region start (bp)\"]\n",
    "        End = region_info.loc[index, \"Region end (bp)\"]\n",
    "        input_list.append((Chr, Start, End))\n",
    "\n",
    "    with WorkerPool(n_jobs=48) as pool:\n",
    "        pool.map(run_getrawSNP, input_list, progress_bar=True)\n",
    "\n",
    "    print(\"ALL DONE!\")"
   ]
  },
  {
   "cell_type": "code",
   "execution_count": 3,
   "id": "2897cfcb-0736-45e3-9668-5b84ceb4b171",
   "metadata": {},
   "outputs": [
    {
     "data": {
      "text/plain": [
       "948"
      ]
     },
     "execution_count": 3,
     "metadata": {},
     "output_type": "execute_result"
    }
   ],
   "source": [
    "len(input_list)"
   ]
  }
 ],
 "metadata": {
  "kernelspec": {
   "display_name": "Python 3 (ipykernel)",
   "language": "python",
   "name": "python3"
  },
  "language_info": {
   "codemirror_mode": {
    "name": "ipython",
    "version": 3
   },
   "file_extension": ".py",
   "mimetype": "text/x-python",
   "name": "python",
   "nbconvert_exporter": "python",
   "pygments_lexer": "ipython3",
   "version": "3.11.4"
  }
 },
 "nbformat": 4,
 "nbformat_minor": 5
}
