{
 "cells": [
  {
   "cell_type": "code",
   "execution_count": 1,
   "id": "81d70817-e0c2-4fa1-9000-617a2297ef06",
   "metadata": {},
   "outputs": [],
   "source": [
    "import os\n",
    "import numpy as np\n",
    "import pandas as pd\n",
    "\n",
    "from mpire import WorkerPool\n",
    "\n",
    "RAW_PATH = \"/data2/zhoujb/project/cowpea_project/rawData/\"\n",
    "SNP_PATH = \"/data2/zhoujb/project/cowpea_project/basedXPXLR/snpDir/\"\n",
    "CLUSTER_PATH = \"/data2/zhoujb/project/cowpea_project/basedXPXLR/SNPMMSeqCluster/\""
   ]
  },
  {
   "cell_type": "code",
   "execution_count": 2,
   "id": "ef5af40a-2592-42d3-bc86-aa6bb47c9946",
   "metadata": {},
   "outputs": [
    {
     "name": "stderr",
     "output_type": "stream",
     "text": [
      "100%|█████████████████████████████████████████████████████████████████████████████████████████████████████████████████████████████████████████████████████████████████████████████████████████| 902/902 [00:01<00:00, 902.23it/s]\n"
     ]
    },
    {
     "name": "stdout",
     "output_type": "stream",
     "text": [
      "ALL DONE\n"
     ]
    }
   ],
   "source": [
    "def SNP2Fasta(input_file):\n",
    "    raw_data = pd.read_table(os.path.join(SNP_PATH, input_file))\n",
    "    sample_list = list(raw_data.columns[2:])\n",
    "    #sample_list = list(raw_data.columns[3:])\n",
    "\n",
    "    with open(os.path.join(CLUSTER_PATH, '{}.fa'.format(input_file.split(\".\")[0])), \"w\") as out_f:\n",
    "        for sample_name in sample_list:\n",
    "            print(\">{}\".format(sample_name), file=out_f)\n",
    "            print(\"\".join(raw_data[sample_name].values), file=out_f)\n",
    "\n",
    "    return\n",
    "\n",
    "if __name__ == \"__main__\":\n",
    "    in_list = [x for x in os.listdir(SNP_PATH) if x.endswith(\"txt\")]\n",
    "    with WorkerPool(n_jobs=48) as pool:\n",
    "        pool.map(SNP2Fasta, in_list, progress_bar=True)\n",
    "\n",
    "print(\"ALL DONE\")"
   ]
  }
 ],
 "metadata": {
  "kernelspec": {
   "display_name": "Python 3 (ipykernel)",
   "language": "python",
   "name": "python3"
  },
  "language_info": {
   "codemirror_mode": {
    "name": "ipython",
    "version": 3
   },
   "file_extension": ".py",
   "mimetype": "text/x-python",
   "name": "python",
   "nbconvert_exporter": "python",
   "pygments_lexer": "ipython3",
   "version": "3.10.0"
  }
 },
 "nbformat": 4,
 "nbformat_minor": 5
}
