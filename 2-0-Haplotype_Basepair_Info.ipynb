{
 "cells": [
  {
   "cell_type": "code",
   "execution_count": 1,
   "id": "a4596547-886f-4d65-ab73-2dde7394c8db",
   "metadata": {},
   "outputs": [],
   "source": [
    "import os\n",
    "import numpy as np\n",
    "import pandas as pd\n",
    "\n",
    "RAW_PATH = \"/data2/zhoujb/project/cowpea_project/rawData/\"\n",
    "SNP_PATH = \"/data2/zhoujb/project/cowpea_project/basedXPXLR/snpDir/\"\n",
    "CLUSTER_PATH = \"/data2/zhoujb/project/cowpea_project/basedXPXLR/SNPMMSeqCluster/\"\n",
    "RES_PATH = \"/data2/zhoujb/project/cowpea_project/basedXPXLR/Result/\"\n",
    "TEMP_PATH = \"/data2/zhoujb/project/cowpea_project/basedXPXLR/templateSNP/\""
   ]
  },
  {
   "cell_type": "code",
   "execution_count": 2,
   "id": "8253bdad-39de-44dc-9151-423a6f3b9828",
   "metadata": {},
   "outputs": [
    {
     "name": "stdout",
     "output_type": "stream",
     "text": [
      "ALL DONE\n"
     ]
    }
   ],
   "source": [
    "output_file = open(os.path.join(RES_PATH, \"Haplotype_Basepair_Info.tsv\"), \"w\")\n",
    "print(\"\\t\".join([\"Haplotype_ID\", \"SNP_Pos\", \"Haplotype\"]), file=output_file)\n",
    "\n",
    "file_list = [x for x in os.listdir(CLUSTER_PATH) if x.endswith(\".final\")]\n",
    "for file_name in file_list:\n",
    "    item_list = file_name.split(\"_\")\n",
    "    Chr = item_list[0]\n",
    "    Start = item_list[1]\n",
    "    End = item_list[2]\n",
    "    region_index = \"{}_{}_{}\".format(Chr, Start, End)\\\n",
    "    \n",
    "    raw_snp_txt =  pd.read_table(os.path.join(SNP_PATH, \"{}.txt\".format(region_index)))\n",
    "\n",
    "    mmseq_res_path = os.path.join(CLUSTER_PATH, file_name)\n",
    "    cluster_df = pd.read_table(mmseq_res_path)\n",
    "    for group in cluster_df.groupby(\"Class_Rep\"):\n",
    "        group_name, group_data = group\n",
    "        group_sample_list = group_data[\"Sample_name\"].to_list()\n",
    "        \n",
    "        num = group_data.shape[0]\n",
    "        total = cluster_df.shape[0]\n",
    "        percentage = num / total\n",
    "        if percentage <= 0.25:\n",
    "            geno_pref = \"NH\"\n",
    "        elif percentage <= 0.5:\n",
    "            geno_pref = \"VH\"\n",
    "        elif percentage <= 0.75:\n",
    "            geno_pref = \"IH\"\n",
    "        else:\n",
    "            geno_pref = \"PH\"\n",
    "        \n",
    "        hap_id = \"{}_{}_{}_{}\".format(region_index, num, geno_pref, group_name)\n",
    "\n",
    "        snp_pos_list = [str(x) for x in raw_snp_txt[\"Pos\"].to_list()]\n",
    "        \n",
    "        sample_sel_df = raw_snp_txt[group_sample_list].copy()\n",
    "        haplotype_list = []\n",
    "        for index in sample_sel_df.index:\n",
    "            most_freq_nn = sample_sel_df.loc[index].value_counts().idxmax()\n",
    "            haplotype_list.append(most_freq_nn)\n",
    "\n",
    "        print(\"\\t\".join([hap_id, \",\".join(snp_pos_list), \",\".join(haplotype_list)]), file=output_file)\n",
    "        del hap_id, snp_pos_list, haplotype_list\n",
    "\n",
    "output_file.close()\n",
    "print(\"ALL DONE\")"
   ]
  },
  {
   "cell_type": "code",
   "execution_count": null,
   "id": "47d3ff47-e247-4761-b5ec-f2fb2dcd5465",
   "metadata": {},
   "outputs": [],
   "source": []
  },
  {
   "cell_type": "code",
   "execution_count": 2,
   "id": "a5387214-9970-48f8-9370-c1756ffebed4",
   "metadata": {},
   "outputs": [
    {
     "name": "stdout",
     "output_type": "stream",
     "text": [
      "ALL DONE\n"
     ]
    }
   ],
   "source": [
    "with open(os.path.join(RES_PATH, \"Haplotype_Basepair_Info.tsv\")) as f:\n",
    "    f.readline()\n",
    "    for line in f:\n",
    "        line = line.rstrip().split(\"\\t\")\n",
    "        hap_id = line[0]\n",
    "        cHTB_index = \"_\".join(hap_id.split(\"_\")[:3])\n",
    "        pos_list = line[1].split(\",\")\n",
    "        val_list = line[2].split(\",\")\n",
    "        if len(pos_list) != len(val_list):\n",
    "            raise ValueError(\"{} {}\".format(cHTB_index, hap_id))\n",
    "\n",
    "        hap_id_dir = os.path.join(TEMP_PATH, \"{}/\".format(cHTB_index))\n",
    "        if not os.path.exists(hap_id_dir):\n",
    "            os.mkdir(hap_id_dir)\n",
    "\n",
    "        output_file = open(os.path.join(hap_id_dir, \"{}\".format(hap_id)), \"w\")\n",
    "        print(\"\\t\".join([\"Index\", \"{}\".format(hap_id)]), file=output_file)\n",
    "        for x, y in zip(pos_list, val_list):\n",
    "            print(\"\\t\".join([x, y]), file=output_file)\n",
    "\n",
    "        output_file.close()\n",
    "\n",
    "print(\"ALL DONE\")  "
   ]
  },
  {
   "cell_type": "code",
   "execution_count": null,
   "id": "86cd1a9b-f9f6-4345-98e7-c7f693140f8c",
   "metadata": {},
   "outputs": [],
   "source": []
  },
  {
   "cell_type": "code",
   "execution_count": null,
   "id": "f7d736b5-7d6b-431e-b358-5ff6a065eb7a",
   "metadata": {},
   "outputs": [],
   "source": []
  },
  {
   "cell_type": "code",
   "execution_count": null,
   "id": "be7eccf0-c056-4f22-a7b0-d42b704c9446",
   "metadata": {},
   "outputs": [],
   "source": []
  },
  {
   "cell_type": "code",
   "execution_count": null,
   "id": "536fb884-9ce4-4291-bd87-38ee519bcc8a",
   "metadata": {},
   "outputs": [],
   "source": []
  }
 ],
 "metadata": {
  "kernelspec": {
   "display_name": "Python 3 (ipykernel)",
   "language": "python",
   "name": "python3"
  },
  "language_info": {
   "codemirror_mode": {
    "name": "ipython",
    "version": 3
   },
   "file_extension": ".py",
   "mimetype": "text/x-python",
   "name": "python",
   "nbconvert_exporter": "python",
   "pygments_lexer": "ipython3",
   "version": "3.10.0"
  }
 },
 "nbformat": 4,
 "nbformat_minor": 5
}
