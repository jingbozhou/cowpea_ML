{
 "cells": [
  {
   "cell_type": "code",
   "execution_count": 1,
   "id": "bd855f61-d502-45c5-8a5a-bd719163742f",
   "metadata": {},
   "outputs": [],
   "source": [
    "import os, pickle, logging, pickle, joblib, sys, warnings\n",
    "warnings.simplefilter('ignore')\n",
    "from scipy import stats\n",
    "import numpy as np\n",
    "import pandas as pd\n",
    "\n",
    "import catboost as cb\n",
    "import lightgbm as lgb\n",
    "\n",
    "from sklearn import ensemble, metrics, pipeline, preprocessing, impute, model_selection\n",
    "from scipy.stats import pearsonr, spearmanr\n",
    "\n",
    "ML_RAW_PATH = \"/data2/zhoujb/project/cowpea_project/basedXPXLR/ML/rawData/\"\n",
    "FS_PATH = \"/data2/zhoujb/project/cowpea_project/basedXPXLR/ML/fs_PStarch/\"\n",
    "TEST_RES_PATH = \"/data2/zhoujb/project/cowpea_project/basedXPXLR/ML/tesRes/\""
   ]
  },
  {
   "cell_type": "code",
   "execution_count": 2,
   "id": "6248fc25-3529-498a-8fa2-25ea3c0c6b6a",
   "metadata": {
    "scrolled": true
   },
   "outputs": [
    {
     "name": "stdout",
     "output_type": "stream",
     "text": [
      "[LightGBM] [Warning] Auto-choosing col-wise multi-threading, the overhead of testing was 0.005063 seconds.\n",
      "You can set `force_col_wise=true` to remove the overhead.\n",
      "[LightGBM] [Info] Total Bins 15559\n",
      "[LightGBM] [Info] Number of data points in the train set: 191, number of used features: 513\n",
      "[LightGBM] [Info] Start training from score 11.515021\n",
      "Training until validation scores don't improve for 10 rounds\n",
      "[10]\ttraining's l2: 2.02465\tvalid_1's l2: 2.85365\n",
      "[20]\ttraining's l2: 1.38438\tvalid_1's l2: 2.65336\n",
      "[30]\ttraining's l2: 0.997579\tvalid_1's l2: 2.57094\n",
      "[40]\ttraining's l2: 0.731374\tvalid_1's l2: 2.65516\n",
      "Early stopping, best iteration is:\n",
      "[30]\ttraining's l2: 0.997579\tvalid_1's l2: 2.57094\n",
      "[LightGBM] [Warning] Auto-choosing col-wise multi-threading, the overhead of testing was 0.003826 seconds.\n",
      "You can set `force_col_wise=true` to remove the overhead.\n",
      "[LightGBM] [Info] Total Bins 15546\n",
      "[LightGBM] [Info] Number of data points in the train set: 191, number of used features: 508\n",
      "[LightGBM] [Info] Start training from score 11.477817\n",
      "Training until validation scores don't improve for 10 rounds\n",
      "[10]\ttraining's l2: 1.85965\tvalid_1's l2: 2.19251\n",
      "[20]\ttraining's l2: 1.27956\tvalid_1's l2: 2.07117\n",
      "[30]\ttraining's l2: 0.920865\tvalid_1's l2: 1.96097\n",
      "Early stopping, best iteration is:\n",
      "[27]\ttraining's l2: 1.01572\tvalid_1's l2: 1.91328\n",
      "[LightGBM] [Warning] Auto-choosing col-wise multi-threading, the overhead of testing was 0.003371 seconds.\n",
      "You can set `force_col_wise=true` to remove the overhead.\n",
      "[LightGBM] [Info] Total Bins 15446\n",
      "[LightGBM] [Info] Number of data points in the train set: 191, number of used features: 487\n",
      "[LightGBM] [Info] Start training from score 11.524499\n",
      "Training until validation scores don't improve for 10 rounds\n",
      "[10]\ttraining's l2: 1.83116\tvalid_1's l2: 2.62272\n",
      "[20]\ttraining's l2: 1.20189\tvalid_1's l2: 2.67115\n",
      "Early stopping, best iteration is:\n",
      "[13]\ttraining's l2: 1.60637\tvalid_1's l2: 2.56948\n",
      "[LightGBM] [Warning] Auto-choosing col-wise multi-threading, the overhead of testing was 0.003777 seconds.\n",
      "You can set `force_col_wise=true` to remove the overhead.\n",
      "[LightGBM] [Info] Total Bins 15530\n",
      "[LightGBM] [Info] Number of data points in the train set: 191, number of used features: 504\n",
      "[LightGBM] [Info] Start training from score 11.429858\n",
      "Training until validation scores don't improve for 10 rounds\n",
      "[10]\ttraining's l2: 1.79379\tvalid_1's l2: 1.74224\n",
      "[20]\ttraining's l2: 1.16113\tvalid_1's l2: 1.69617\n",
      "[30]\ttraining's l2: 0.801803\tvalid_1's l2: 1.70993\n",
      "Early stopping, best iteration is:\n",
      "[22]\ttraining's l2: 1.07979\tvalid_1's l2: 1.67831\n",
      "[LightGBM] [Warning] Auto-choosing col-wise multi-threading, the overhead of testing was 0.003551 seconds.\n",
      "You can set `force_col_wise=true` to remove the overhead.\n",
      "[LightGBM] [Info] Total Bins 15565\n",
      "[LightGBM] [Info] Number of data points in the train set: 192, number of used features: 504\n",
      "[LightGBM] [Info] Start training from score 11.535337\n",
      "Training until validation scores don't improve for 10 rounds\n",
      "[10]\ttraining's l2: 1.82681\tvalid_1's l2: 2.14313\n",
      "[20]\ttraining's l2: 1.21244\tvalid_1's l2: 2.06379\n",
      "[30]\ttraining's l2: 0.851811\tvalid_1's l2: 2.01196\n",
      "Early stopping, best iteration is:\n",
      "[23]\ttraining's l2: 1.08837\tvalid_1's l2: 1.98592\n"
     ]
    }
   ],
   "source": [
    "feat_col = []\n",
    "with open(os.path.join(FS_PATH, \"lgb_rfe_cv_pstarch_rmse\")) as f:\n",
    "    for line in f:\n",
    "        feat_col.append(line.strip())\n",
    "\n",
    "raw_data = pd.read_table(os.path.join(ML_RAW_PATH, \"raw_data_PStarch.txt\"), sep=\"\\t\", index_col=0)\n",
    "\n",
    "target_col = ['HZ-PStarch']\n",
    "raw_data = raw_data.dropna(subset=target_col)\n",
    "\n",
    "#cat_col_names_raw = [\"heading_stage_d\", \"leaf_blast_rep1\", \"leaf_blast_rep2\", \"leaf_blast_average\", \"GR_D3\", \"GR_D2\", \"GR_D1\"]\n",
    "#cat_col_names_raw = [\"feat_{}\".format(x) for x in cat_col_names_raw]\n",
    "#cat_col_names = [i for i in feat_col if i in cat_col_names_raw]\n",
    "#num_col_names = [i for i in feat_col if (i.startswith(\"feat\")) and (i not in cat_col_names)]\n",
    "#cat_col_num = []\n",
    "#for item in cat_col_names:\n",
    "    #cat_col_num.append(feat_col.index(item))\n",
    "\n",
    "#for col in cat_col_names:\n",
    "    #raw_data[col] = raw_data[col].astype(\"str\")\n",
    "\n",
    "kf = model_selection.KFold(n_splits=5, shuffle=True,  random_state=0)\n",
    "y_test_final, y_pred_final = [], []\n",
    "for i, (train_index, test_index) in enumerate(kf.split(raw_data)):\n",
    "    data_train = raw_data.iloc[train_index].copy()\n",
    "    data_test = raw_data.iloc[test_index].copy()\n",
    "    \n",
    "    scale_tool = preprocessing.StandardScaler()\n",
    "    scale_tool.fit(data_train.loc[:, feat_col])\n",
    "    data_train.loc[:, feat_col] = scale_tool.transform(data_train.loc[:, feat_col])\n",
    "    data_test.loc[:, feat_col] = scale_tool.transform(data_test.loc[:, feat_col])\n",
    "\n",
    "    train_sel = data_train.sample(frac=0.8, random_state=0)\n",
    "    val_sel = data_train.drop(train_sel.index).copy()\n",
    "\n",
    "    X_train = train_sel[feat_col].copy()\n",
    "    y_train = train_sel[target_col].values.ravel()\n",
    "\n",
    "    X_val = val_sel[feat_col].copy()\n",
    "    y_val = val_sel[target_col].values.ravel()\n",
    "\n",
    "    X_test = data_test[feat_col].copy()\n",
    "    y_test = data_test[target_col].values.ravel()\n",
    "\n",
    "    # Initialize CatBoostClassifier\n",
    "    clf_model = lgb.LGBMRegressor(boosting_type=\"gbdt\", n_estimators=1000, random_state=0, n_jobs=4, num_leaves=5)\n",
    "\n",
    "    clf_model.fit(X_train, y_train, \n",
    "                  eval_set=[(X_train, y_train), (X_val, y_val)],\n",
    "                  callbacks=[lgb.log_evaluation(period=10), \n",
    "                             lgb.early_stopping(stopping_rounds=10)])\n",
    "\n",
    "    y_pred = clf_model.predict(X_test)\n",
    "\n",
    "    y_test_final.append(y_test)\n",
    "    y_pred_final.append(y_pred)"
   ]
  },
  {
   "cell_type": "code",
   "execution_count": 3,
   "id": "6dad83cc-3622-4844-9a61-e6bc0dc740cc",
   "metadata": {},
   "outputs": [],
   "source": [
    "res_df = pd.DataFrame(columns=[\"Model\", \"Times\", \"Score\", \"Type\"])\n",
    "for i in range(len(y_test_final)):\n",
    "    ## Get score\n",
    "    #score_pear = pearsonr(y_test_final[i], y_pred_final[i])[0]\n",
    "    score_spear = spearmanr(y_test_final[i], y_pred_final[i])[0]\n",
    "    #score_rmse = metrics.mean_squared_error(y_test_final[i], y_pred_final[i], squared=False)\n",
    "    score_rmse = metrics.root_mean_squared_error(y_test_final[i], y_pred_final[i])\n",
    "    score_nrmse = score_rmse / np.std(y_test_final[i])\n",
    "\n",
    "    #res_df.loc[len(res_df)] = [\"LB_RFE\", i+1, score_pear, \"R\"]\n",
    "    res_df.loc[len(res_df)] = [\"LB_RFE\", i+1, score_spear, \"R\"]\n",
    "    res_df.loc[len(res_df)] = [\"LB_RFE\", i+1, score_rmse, \"RMSE\"]\n",
    "    res_df.loc[len(res_df)] = [\"LB_RFE\", i+1, score_nrmse, \"NRMSE\"]\n",
    "\n",
    "with open(os.path.join(TEST_RES_PATH, \"PStarch_LB_RFE.pickle\"), \"wb\") as out_f:\n",
    "    pickle.dump(res_df, out_f)"
   ]
  },
  {
   "cell_type": "code",
   "execution_count": 4,
   "id": "80f8fc3e-25b8-4f9b-8065-45febe5fd3b3",
   "metadata": {},
   "outputs": [
    {
     "data": {
      "text/plain": [
       "Type\n",
       "NRMSE    0.895676\n",
       "R        0.453409\n",
       "RMSE     1.602877\n",
       "Name: Score, dtype: float64"
      ]
     },
     "execution_count": 4,
     "metadata": {},
     "output_type": "execute_result"
    }
   ],
   "source": [
    "res_df.groupby([\"Type\"])[\"Score\"].mean()"
   ]
  },
  {
   "cell_type": "code",
   "execution_count": null,
   "id": "1eb3187e-e629-4cf6-b990-3159ca40c5c8",
   "metadata": {},
   "outputs": [],
   "source": []
  }
 ],
 "metadata": {
  "kernelspec": {
   "display_name": "Python 3 (ipykernel)",
   "language": "python",
   "name": "python3"
  },
  "language_info": {
   "codemirror_mode": {
    "name": "ipython",
    "version": 3
   },
   "file_extension": ".py",
   "mimetype": "text/x-python",
   "name": "python",
   "nbconvert_exporter": "python",
   "pygments_lexer": "ipython3",
   "version": "3.10.0"
  }
 },
 "nbformat": 4,
 "nbformat_minor": 5
}
