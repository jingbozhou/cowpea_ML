{
 "cells": [
  {
   "cell_type": "code",
   "execution_count": 2,
   "id": "d92e6733-3782-45b5-9310-ae9dd52a7503",
   "metadata": {},
   "outputs": [],
   "source": [
    "import os\n",
    "import numpy as np\n",
    "import pandas as pd\n",
    "\n",
    "from mpire import WorkerPool\n",
    "\n",
    "RAW_SNP_PATH = \"/data2/zhoujb/project/cowpea_project/basedXPXLR/snpDir/\"\n",
    "RAW_RES_PATH = \"/data2/zhoujb/project/cowpea_project/basedXPXLR/Result/\"\n",
    "NEW_SNP_PATH = \"/data2/zhoujb/project/cowpea_project/basedXPXLR/offspring/12/snpDir/\"\n",
    "NEW_RES_PATH = \"/data2/zhoujb/project/cowpea_project/basedXPXLR/offspring/12/Result/\"\n",
    "REF_PATH = \"/data1/zhoujb/cowpeaSequence/refernce/\"\n",
    "TEMP_PATH = \"/data2/zhoujb/project/cowpea_project/basedXPXLR/templateSNP/\""
   ]
  },
  {
   "cell_type": "code",
   "execution_count": 3,
   "id": "8153065e-e095-4266-bebb-6aab1bd3742c",
   "metadata": {},
   "outputs": [
    {
     "name": "stderr",
     "output_type": "stream",
     "text": [
      "100%|███████████████████████████████████████████████████████████████████████████████████████████████████████████████████████████████████████████████████████████████████████████████████████████| 805/805 [00:25<00:00,  4.93it/s]\n"
     ]
    },
    {
     "name": "stdout",
     "output_type": "stream",
     "text": [
      "ALL DONE!\n"
     ]
    }
   ],
   "source": [
    "def getIdentity(dir_name):\n",
    "    \n",
    "    tmep_dir = os.path.join(TEMP_PATH, dir_name)\n",
    "    tmep_df = pd.DataFrame()\n",
    "    for tmep_file in os.listdir(tmep_dir):\n",
    "        tmp_file = pd.read_table(os.path.join(tmep_dir, tmep_file), index_col=\"Index\")\n",
    "        tmep_df = pd.concat([tmep_df, tmp_file], axis=1, sort=False)\n",
    "\n",
    "    four_raw = pd.read_table(os.path.join(NEW_SNP_PATH, \"{}.txt\".format(dir_name)), index_col=\"Pos\")\n",
    "    four_raw = four_raw.drop(columns=['Chr'])\n",
    "\n",
    "    if len(four_raw) != len(tmep_df):\n",
    "        raise ValueError(\"{}\".format(dir_name))\n",
    "\n",
    "    tmep_df = tmep_df.loc[four_raw.index]\n",
    "    out_df = pd.DataFrame(columns=four_raw.columns, index=tmep_df.columns)\n",
    "    for col in out_df.columns:\n",
    "        for index in out_df.index:\n",
    "            comb_df = pd.concat([tmep_df[index], four_raw[col]], axis=1, sort=False)\n",
    "            identity = (comb_df[index] == comb_df[col]).sum() / comb_df.shape[0]\n",
    "            out_df.loc[index, col] = identity\n",
    "\n",
    "    out_df.to_csv(os.path.join(NEW_SNP_PATH, \"{}.identity\".format(dir_name)), sep=\"\\t\")\n",
    "    return\n",
    "\n",
    "if __name__ == \"__main__\":\n",
    "    temp_dir = os.listdir(TEMP_PATH)\n",
    "\n",
    "    with WorkerPool(n_jobs=48) as pool:\n",
    "        pool.map(getIdentity, temp_dir, progress_bar=True)\n",
    "\n",
    "    print(\"ALL DONE!\")"
   ]
  },
  {
   "cell_type": "code",
   "execution_count": null,
   "id": "840cb0af-44d1-40c0-a3f6-1378ff12be79",
   "metadata": {},
   "outputs": [],
   "source": []
  },
  {
   "cell_type": "code",
   "execution_count": 4,
   "id": "77bdf446-9065-4d1a-a1f9-7a4da7b627c5",
   "metadata": {},
   "outputs": [
    {
     "name": "stdout",
     "output_type": "stream",
     "text": [
      "ALL DONE!\n"
     ]
    }
   ],
   "source": [
    "raw_gen_df = pd.read_table(os.path.join(RAW_RES_PATH, \"Genotype_by_Hap_ID.tsv\"), \n",
    "                           usecols=['Region_index', 'Chr', 'Start', 'End'], index_col='Region_index')\n",
    "geno_hap_four = raw_gen_df.copy()\n",
    "for index in raw_gen_df.index:\n",
    "    tmp_file = pd.read_table(os.path.join(NEW_SNP_PATH, \"{}.identity\".format(index)), index_col=0)\n",
    "    tmp_hap = tmp_file.idxmax(axis=0)\n",
    "    \n",
    "    for tmp_index in tmp_hap.index:\n",
    "        if tmp_file[tmp_index].max() < 0.5:\n",
    "            tmp_hap.loc[tmp_index] = \"-\"\n",
    "    geno_hap_four.loc[index, tmp_hap.index] = tmp_hap.values\n",
    "\n",
    "geno_hap_four.to_csv(os.path.join(NEW_RES_PATH, \"Genotype_by_Hap_four.tsv\"), sep=\"\\t\")\n",
    "print(\"ALL DONE!\")"
   ]
  },
  {
   "cell_type": "code",
   "execution_count": null,
   "id": "b6478582-1f4b-44d3-8916-ca3c2cb3f927",
   "metadata": {},
   "outputs": [],
   "source": []
  }
 ],
 "metadata": {
  "kernelspec": {
   "display_name": "Python 3 (ipykernel)",
   "language": "python",
   "name": "python3"
  },
  "language_info": {
   "codemirror_mode": {
    "name": "ipython",
    "version": 3
   },
   "file_extension": ".py",
   "mimetype": "text/x-python",
   "name": "python",
   "nbconvert_exporter": "python",
   "pygments_lexer": "ipython3",
   "version": "3.10.0"
  }
 },
 "nbformat": 4,
 "nbformat_minor": 5
}
