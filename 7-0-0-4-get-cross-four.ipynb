{
 "cells": [
  {
   "cell_type": "code",
   "execution_count": 2,
   "id": "18c8d659-d7c3-409f-a7b0-0c6e2617bcee",
   "metadata": {},
   "outputs": [],
   "source": [
    "import os, itertools, subprocess\n",
    "import numpy as np\n",
    "import pandas as pd\n",
    "\n",
    "from mpire import WorkerPool\n",
    "\n",
    "RAW_SNP_PATH = \"/data2/zhoujb/project/cowpea_project/basedXPXLR/snpDir/\"\n",
    "RAW_RES_PATH = \"/data2/zhoujb/project/cowpea_project/basedXPXLR/Result/\"\n",
    "NEW_SNP_PATH = \"/data1/zhoujb/cowpeaSequence/snpDir/\"\n",
    "NEW_RES_PATH = \"/data1/zhoujb/cowpeaSequence/Result/\"\n",
    "REF_PATH = \"/data1/zhoujb/cowpeaSequence/refernce/\"\n",
    "TEMP_PATH = \"/data2/zhoujb/project/cowpea_project/basedXPXLR/templateSNP/\"\n",
    "\n",
    "CROSS_RAW_PATH = \"/data1/zhoujb/cowpeaSequence/Cross_Analysis_Results/\"\n",
    "CROSS_PATH = \"/data1/zhoujb/cowpeaSequence/Cross_Analysis_Results/Cross/\"\n",
    "CROSS_RES_PATH = \"/data1/zhoujb/cowpeaSequence/Cross_Analysis_Results/CrossRes/\""
   ]
  },
  {
   "cell_type": "code",
   "execution_count": 6,
   "id": "28656da9-16e9-4d46-8a8a-17f47bbb7320",
   "metadata": {},
   "outputs": [
    {
     "name": "stderr",
     "output_type": "stream",
     "text": [
      "100%|█████████████████████████████████████████████████████████████████████████████████████████████████████████████████████████████████████████████████████████████████████████████████████████████| 12/12 [00:01<00:00, 57.99it/s]"
     ]
    },
    {
     "name": "stdout",
     "output_type": "stream",
     "text": [
      "ALL DONE!\n"
     ]
    },
    {
     "name": "stderr",
     "output_type": "stream",
     "text": [
      "\n"
     ]
    }
   ],
   "source": [
    "def runHapCross(sample_1, sample_2):\n",
    "    \n",
    "    out_file_path = os.path.join(CROSS_PATH, \"{}/{}_{}.Cross.Info\".format(sample_1, sample_1, sample_2))\n",
    "    if os.path.exists(out_file_path):\n",
    "        print(\"{} {} DONE\".format(sample_1, sample_2))\n",
    "        return\n",
    "    \n",
    "    geno_by_hap_sel = pd.read_table(os.path.join(NEW_RES_PATH, \"Genotype_by_Hap_four.tsv\"), \n",
    "                                    usecols=['Region_index', sample_1, sample_2], index_col='Region_index')\n",
    "    hap_score_info = pd.read_table(os.path.join(RAW_RES_PATH, \"Haplotype_Score_Info.tsv\"), index_col=\"Haplotype_ID\")\n",
    "\n",
    "    out_file = pd.DataFrame(columns=['Operating_Unit', \n",
    "                                     'P1_Haplotype', 'P1_Haplotype_Class', 'P1_haplotype_freq', 'P1_Haplotype_Score',\n",
    "                                     'P2_Haplotype', 'P2_Haplotype_Class', 'P2_haplotype_freq', 'P2_Haplotype_Score',\n",
    "                                     'Optimal_Haplotype', 'Delta_Ind_Hap_Score', 'P1_Breeding_Operation', 'Breeding_Strategy'])\n",
    "    for index in geno_by_hap_sel.index:\n",
    "        p1_haplotype = geno_by_hap_sel.loc[index, sample_1]\n",
    "        if p1_haplotype == \"-\":\n",
    "            p1_haplotype_class = \"-\"\n",
    "            p1_indica_freq = \"-\"\n",
    "            p1_indica_score = \"-\"\n",
    "        else:\n",
    "            p1_haplotype_class = hap_score_info.loc[p1_haplotype, \"Haplotype_Class\"]\n",
    "            p1_indica_freq = hap_score_info.loc[p1_haplotype, \"Mean.Total_freq\"]\n",
    "            p1_indica_score = hap_score_info.loc[p1_haplotype, \"Hap_Score.by_Total_pop\"]\n",
    "    \n",
    "        p2_haplotype = geno_by_hap_sel.loc[index, sample_2]\n",
    "        if p2_haplotype == \"-\":\n",
    "            p2_haplotype_class = \"-\"\n",
    "            p2_indica_freq = \"-\"\n",
    "            p2_indica_score = \"-\"\n",
    "        else:\n",
    "            p2_haplotype_class = hap_score_info.loc[p2_haplotype, \"Haplotype_Class\"]\n",
    "            p2_indica_freq = hap_score_info.loc[p2_haplotype, \"Mean.Total_freq\"]\n",
    "            p2_indica_score = hap_score_info.loc[p2_haplotype, \"Hap_Score.by_Total_pop\"]\n",
    "\n",
    "        if (p1_haplotype == \"-\") and (p2_haplotype == \"-\"):\n",
    "            delta_score = 0\n",
    "            optimal_haplotype = p1_haplotype\n",
    "            p1_breeding_operation = \"Keep\"\n",
    "            breeding_strategy = \"P1\"\n",
    "        else:\n",
    "            if p1_haplotype == \"-\":\n",
    "                delta_score = 0\n",
    "                optimal_haplotype = p2_haplotype\n",
    "                p1_breeding_operation = \"Replaced_by_P2\"\n",
    "                breeding_strategy = \"P2\"\n",
    "            elif p2_haplotype == \"-\":\n",
    "                delta_score = 0\n",
    "                optimal_haplotype = p1_haplotype\n",
    "                p1_breeding_operation = \"Keep\"\n",
    "                breeding_strategy = \"P1\"\n",
    "            else:\n",
    "                delta_score = p2_indica_score - p1_indica_score\n",
    "                \n",
    "                if p1_indica_freq == p2_indica_freq:\n",
    "                    optimal_haplotype = p1_haplotype\n",
    "                    p1_breeding_operation = \"Same\"\n",
    "                    breeding_strategy = \"||\"\n",
    "                elif p1_indica_freq > p2_indica_freq:\n",
    "                    optimal_haplotype = p1_haplotype\n",
    "                    p1_breeding_operation = \"Keep\"\n",
    "                    breeding_strategy = \"P1\"\n",
    "                elif p1_indica_freq < p2_indica_freq:\n",
    "                    optimal_haplotype = p2_haplotype\n",
    "                    p1_breeding_operation = \"Replaced_by_P2\"\n",
    "                    breeding_strategy = \"P2\"\n",
    "\n",
    "        out_file.loc[len(out_file)] = [index, \n",
    "                                       p1_haplotype, p1_haplotype_class, p1_indica_freq, p1_indica_score, \n",
    "                                       p2_haplotype, p2_haplotype_class, p2_indica_freq, p2_indica_score, \n",
    "                                       optimal_haplotype, delta_score, p1_breeding_operation, breeding_strategy]\n",
    "    \n",
    "\n",
    "    out_file.to_csv(os.path.join(CROSS_PATH, \"{}/{}_{}_Cross_Info.txt\".format(sample_1, sample_1, sample_2)), index=0, sep=\"\\t\")\n",
    "    return\n",
    "    \n",
    "if __name__ == \"__main__\":\n",
    "    samp_score_info = pd.read_table(os.path.join(NEW_RES_PATH, \"Samples_Score_Info_four.tsv\"))\n",
    "    sample_list = samp_score_info[\"Sample\"].to_list()\n",
    "    samp_comb_list = list(itertools.permutations(sample_list, 2))\n",
    "\n",
    "    for item in sample_list:\n",
    "        os.mkdir(os.path.join(CROSS_PATH, \"{}/\".format(item)))\n",
    "\n",
    "    with WorkerPool(n_jobs=12) as pool:\n",
    "        pool.map(runHapCross, samp_comb_list, progress_bar=True)\n",
    "    print(\"ALL DONE!\")"
   ]
  },
  {
   "cell_type": "code",
   "execution_count": 5,
   "id": "dbf6e4c3-76b9-4872-88a0-212b4060a29a",
   "metadata": {},
   "outputs": [
    {
     "data": {
      "text/plain": [
       "['LP001', 'LP012', 'LP024', 'zhijiang618']"
      ]
     },
     "execution_count": 5,
     "metadata": {},
     "output_type": "execute_result"
    }
   ],
   "source": []
  },
  {
   "cell_type": "code",
   "execution_count": null,
   "id": "e1a5ab88-5b19-487c-b03e-13d82d2cf33c",
   "metadata": {},
   "outputs": [],
   "source": []
  },
  {
   "cell_type": "code",
   "execution_count": null,
   "id": "10182ed3-d1b2-4018-97e5-dbd200e46a6d",
   "metadata": {},
   "outputs": [],
   "source": []
  }
 ],
 "metadata": {
  "kernelspec": {
   "display_name": "Python 3 (ipykernel)",
   "language": "python",
   "name": "python3"
  },
  "language_info": {
   "codemirror_mode": {
    "name": "ipython",
    "version": 3
   },
   "file_extension": ".py",
   "mimetype": "text/x-python",
   "name": "python",
   "nbconvert_exporter": "python",
   "pygments_lexer": "ipython3",
   "version": "3.11.4"
  }
 },
 "nbformat": 4,
 "nbformat_minor": 5
}
