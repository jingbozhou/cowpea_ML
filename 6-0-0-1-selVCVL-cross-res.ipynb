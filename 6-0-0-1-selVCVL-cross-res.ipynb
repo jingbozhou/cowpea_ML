{
 "cells": [
  {
   "cell_type": "code",
   "execution_count": 4,
   "id": "f43ef330-fd33-4792-85e5-eda188fc7b5f",
   "metadata": {},
   "outputs": [],
   "source": [
    "import os, itertools, subprocess\n",
    "import numpy as np\n",
    "import pandas as pd\n",
    "\n",
    "from mpire import WorkerPool\n",
    "\n",
    "RAW_PATH = \"/data2/zhoujb/project/cowpea_project/rawData/\"\n",
    "RES_PATH = \"/data2/zhoujb/project/cowpea_project/basedXPXLR/Result/\"\n",
    "CROSS_PATH = \"/data2/zhoujb/project/cowpea_project/basedXPXLR/Cross_Analysis_Results/rawCross/\"\n",
    "CROSS_RES_PATH = \"/data2/zhoujb/project/cowpea_project/basedXPXLR/Cross_Analysis_Results/selVCVLCross/CrossRes/\"\n",
    "selVCVL_CROSS_PATH = \"/data2/zhoujb/project/cowpea_project/basedXPXLR/Cross_Analysis_Results/selVCVLCross/\""
   ]
  },
  {
   "cell_type": "code",
   "execution_count": 2,
   "id": "dc527104-a035-4a05-a37e-f1388052d33b",
   "metadata": {},
   "outputs": [
    {
     "name": "stderr",
     "output_type": "stream",
     "text": [
      "100%|██████████████████████████████████████████████████████████████████████████████████████████████████████████████████████████████████████████████████████████████████████████| 9/9 [00:10<00:00,  2.63it/s]"
     ]
    },
    {
     "name": "stdout",
     "output_type": "stream",
     "text": [
      "ALL DONE!\n"
     ]
    },
    {
     "name": "stderr",
     "output_type": "stream",
     "text": [
      "\n"
     ]
    }
   ],
   "source": [
    "def getselVLCrossRes(p1_name):\n",
    "    \n",
    "    output_file = pd.DataFrame(columns=[\"P1\", \"P2\", \"P1_score\", \"P2_score\", \"Optimal_score\", \n",
    "                                        \"Delta_score\", \"Same\", \"Keep\", \"Replaced_by_P2\"])\n",
    "    \n",
    "    haplotype_score_info = pd.read_table(os.path.join(RES_PATH, \"Haplotype_Score_Info.tsv\"), index_col=\"Haplotype_ID\")\n",
    "    haplotype_score_info = haplotype_score_info['Hap_Score.by_Total_pop'].copy()\n",
    "    \n",
    "    samp_score_info = pd.read_table(os.path.join(RES_PATH, \"Samples_Score_Info.tsv\"))\n",
    "    #samp_list = samp_score_info[\"Sample\"].to_list()\n",
    "    detail_info = pd.read_excel(os.path.join(RAW_PATH, \"Detail_information_344.xlsx\"), index_col=\"Genotype No.\")\n",
    "    detail_info[\"Type\"] = detail_info[\"Types\"].map({'Grain':\"G\", 'V-landrace':\"VL\", '-':\"NA\", 'V-cultivar':\"VC\"})\n",
    "    \n",
    "    samp_list = detail_info[detail_info[\"Type\"].isin([\"VL\", \"VC\"])].index.to_list()\n",
    "    if p1_name in samp_list:\n",
    "        samp_list.remove(p1_name)\n",
    "    \n",
    "    for item in samp_list:\n",
    "        p1_score = samp_score_info.loc[samp_score_info[\"Sample\"]==p1_name][\"Hap_Score.by_Total_pop\"].values[0]\n",
    "        p2_score = samp_score_info.loc[samp_score_info[\"Sample\"]==item][\"Hap_Score.by_Total_pop\"].values[0]\n",
    "    \n",
    "        file_path = os.path.join(CROSS_PATH, \"{}/{}_{}.Cross.Info\".format(p1_name, p1_name, item))\n",
    "        raw_tmp_data = pd.read_table(file_path)\n",
    "\n",
    "        opt_hap_list = [x for x in raw_tmp_data[\"Optimal_Haplotype\"].to_list() if x != \"-\"]\n",
    "        opt_hap_score = haplotype_score_info.loc[opt_hap_list].sum()/854.768527747741*100\n",
    "\n",
    "        delta_ind_score = opt_hap_score - p1_score\n",
    "\n",
    "        same_num = raw_tmp_data[raw_tmp_data[\"P1_Breeding_Operation\"]==\"Same\"].shape[0]\n",
    "        keep_num = raw_tmp_data[raw_tmp_data[\"P1_Breeding_Operation\"]==\"Keep\"].shape[0]\n",
    "        replace_num = raw_tmp_data[raw_tmp_data[\"P1_Breeding_Operation\"]==\"Replaced_by_P2\"].shape[0]\n",
    "\n",
    "        output_file.loc[len(output_file)] = [p1_name, item, p1_score, p2_score, opt_hap_score, \n",
    "                                             delta_ind_score, same_num, keep_num, replace_num]\n",
    "\n",
    "    output_file = output_file.sort_values(by=[\"Optimal_score\"], ascending=[False])\n",
    "    output_file.to_csv(os.path.join(selVCVL_CROSS_PATH, \"CrossRes/{}.cross.res\".format(p1_name)), index=0, sep=\"\\t\")\n",
    "    return\n",
    "\n",
    "if __name__ == \"__main__\":\n",
    "    #detail_info = pd.read_excel(os.path.join(RAW_PATH, \"Detail_information_344.xlsx\"), index_col=\"Genotype No.\")\n",
    "    #detail_info[\"Type\"] = detail_info[\"Types\"].map({'Grain':\"G\", 'V-landrace':\"VL\", '-':\"NA\", 'V-cultivar':\"VC\"})\n",
    "    #p1_sample_list = detail_info[detail_info[\"Type\"].isin([\"VC\", \"VL\"])].index.to_list()\n",
    "    p1_sample_list = ['D454', 'D580', 'D645', 'D640', 'D511', 'D443', 'D586', 'D376', 'D639']\n",
    "\n",
    "    with WorkerPool(n_jobs=24) as pool:\n",
    "        pool.map(getselVLCrossRes, p1_sample_list, progress_bar=True)\n",
    "    \n",
    "    print(\"ALL DONE!\")"
   ]
  },
  {
   "cell_type": "code",
   "execution_count": null,
   "id": "7eb301cd-2538-48ef-b1ce-602ae5d6d1e8",
   "metadata": {},
   "outputs": [],
   "source": []
  },
  {
   "cell_type": "code",
   "execution_count": 6,
   "id": "03476dd5-4f85-496a-9b96-69912d5d6185",
   "metadata": {},
   "outputs": [],
   "source": [
    "for file_name in os.listdir(CROSS_RES_PATH):\n",
    "    p2_name = file_name.split(\".\")[0]\n",
    "    tmp_file = pd.read_table(os.path.join(CROSS_RES_PATH, \"{}.cross.res\".format(p2_name)))\n",
    "    tmp_file.to_excel(os.path.join(selVCVL_CROSS_PATH, \"selVCVLTmpFile/{}_cross_res.xlsx\".format(p2_name)), index=0)"
   ]
  },
  {
   "cell_type": "code",
   "execution_count": null,
   "id": "c8971dff-6722-4e60-adb8-d68f24a20b29",
   "metadata": {},
   "outputs": [],
   "source": []
  }
 ],
 "metadata": {
  "kernelspec": {
   "display_name": "Python 3 (ipykernel)",
   "language": "python",
   "name": "python3"
  },
  "language_info": {
   "codemirror_mode": {
    "name": "ipython",
    "version": 3
   },
   "file_extension": ".py",
   "mimetype": "text/x-python",
   "name": "python",
   "nbconvert_exporter": "python",
   "pygments_lexer": "ipython3",
   "version": "3.10.0"
  }
 },
 "nbformat": 4,
 "nbformat_minor": 5
}
