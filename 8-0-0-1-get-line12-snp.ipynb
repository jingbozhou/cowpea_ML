{
 "cells": [
  {
   "cell_type": "code",
   "execution_count": 1,
   "id": "2069b025-321c-4c4f-a5a2-cc18a1c7dac7",
   "metadata": {},
   "outputs": [],
   "source": [
    "import os\n",
    "import numpy as np\n",
    "import pandas as pd\n",
    "\n",
    "from mpire import WorkerPool\n",
    "\n",
    "RAW_SNP_PATH = \"/data2/zhoujb/project/cowpea_project/basedXPXLR/snpDir/\"\n",
    "NEW_SNP_PATH = \"/data2/zhoujb/project/cowpea_project/basedXPXLR/offspring/12/snpDir/\"\n",
    "REF_PATH = \"/data1/zhoujb/cowpeaSequence/refernce/\""
   ]
  },
  {
   "cell_type": "code",
   "execution_count": 2,
   "id": "de040722-3e3d-4cd4-84a3-9819e897f97c",
   "metadata": {},
   "outputs": [
    {
     "name": "stderr",
     "output_type": "stream",
     "text": [
      "100%|███████████████████████████████████████████████████████████████████████████████████████████████████████████████████████████████████████████████████████████████████████████████████████████| 902/902 [48:07<00:00,  4.03s/it]\n"
     ]
    }
   ],
   "source": [
    "def getNewVarPos(file_name):\n",
    "    # Load raw vcf file\n",
    "    vcf_file_path = \"/data2/zhoujb/project/cowpea_project/runWES/2_getMut/only_snp.vcf\"\n",
    "    raw_vcf = pd.read_table(vcf_file_path, skiprows=941)\n",
    "\n",
    "    name_list = []\n",
    "    with open(\"/data2/zhoujb/project/cowpea_project/runWES/2_getMut/config_bam\") as name_f:\n",
    "        for line in name_f:\n",
    "            name_list.append(line.split(\"\\t\")[0])\n",
    "\n",
    "    chr_name_map = {\"CM072825.1\":\"Chr01\", \"CM072826.1\":\"Chr02\", \"CM072827.1\":\"Chr03\", \n",
    "                    \"CM072828.1\":\"Chr04\", \"CM072829.1\":\"Chr05\", \"CM072830.1\":\"Chr06\", \n",
    "                    \"CM072831.1\":\"Chr07\", \"CM072832.1\":\"Chr08\", \"CM072833.1\":\"Chr09\", \n",
    "                    \"CM072834.1\":\"Chr10\", \"CM072835.1\":\"Chr11\"}\n",
    "    \n",
    "    raw_vcf = raw_vcf[raw_vcf[\"#CHROM\"].isin(chr_name_map)].copy()\n",
    "    raw_vcf[\"Chr\"] = raw_vcf[\"#CHROM\"].map(chr_name_map)\n",
    "\n",
    "    raw_snp_txt = pd.read_table(os.path.join(RAW_SNP_PATH, file_name))\n",
    "\n",
    "    vcf_sel = raw_vcf[raw_vcf[\"Chr\"] == file_name.split(\"_\")[0]].copy()\n",
    "\n",
    "    in_list = list(set(raw_snp_txt[\"Pos\"].to_list()).intersection(vcf_sel[\"POS\"].to_list()))\n",
    "    out_list = list(set(raw_snp_txt[\"Pos\"].to_list()).difference(vcf_sel[\"POS\"].to_list()))\n",
    "\n",
    "    vcf_sel = vcf_sel[vcf_sel[\"POS\"].isin(in_list)].copy()\n",
    "\n",
    "    need_write_list = []\n",
    "    for index in vcf_sel.index:\n",
    "        tmp_list = []\n",
    "        tmp_list.append(vcf_sel.loc[index, \"Chr\"])\n",
    "        tmp_list.append(vcf_sel.loc[index, \"POS\"])\n",
    "\n",
    "        ref = vcf_sel.loc[index, \"REF\"]\n",
    "        alt = vcf_sel.loc[index, \"ALT\"]\n",
    "        for item in name_list:\n",
    "            gt = vcf_sel.loc[index, item].split(\":\")[0]\n",
    "            if gt == \"0/0\":\n",
    "                out_val = ref\n",
    "            elif gt == \"1/1\":\n",
    "                out_val = alt\n",
    "            else:\n",
    "                out_val = \"N\"\n",
    "\n",
    "            tmp_list.append(out_val)\n",
    "\n",
    "        need_write_list.append(tmp_list)\n",
    "        del tmp_list\n",
    "\n",
    "    ref_file = pd.read_table(os.path.join(REF_PATH, \"cowpeaRef/{}.pos\").format(file_name.split(\".\")[0]), index_col=\"Pos\")\n",
    "    for item in out_list:\n",
    "        ref_val = ref_file.loc[item, \"Val\"]\n",
    "        tmp_list = [file_name.split(\"_\")[0], item] + [ref_val] * len(name_list)\n",
    "        need_write_list.append(tmp_list)\n",
    "        del tmp_list\n",
    "\n",
    "    out_df = pd.DataFrame(need_write_list, columns=['Chr', 'Pos']+name_list)\n",
    "    out_df = out_df.sort_values(by=[\"Pos\"], ascending=True)\n",
    "    out_df.to_csv(os.path.join(NEW_SNP_PATH, file_name), sep=\"\\t\", index=0)\n",
    "    \n",
    "    return\n",
    "\n",
    "if __name__ == \"__main__\":\n",
    "    file_list = os.listdir(RAW_SNP_PATH)\n",
    "\n",
    "    with WorkerPool(n_jobs=24) as pool:\n",
    "        pool.map(getNewVarPos, file_list, progress_bar=True)"
   ]
  },
  {
   "cell_type": "code",
   "execution_count": null,
   "id": "e56a8d02-c3ce-49a2-abd9-628cf1bd9c19",
   "metadata": {},
   "outputs": [],
   "source": []
  },
  {
   "cell_type": "code",
   "execution_count": 6,
   "id": "aec5306c-f932-448d-afd1-96c3522d7191",
   "metadata": {},
   "outputs": [],
   "source": []
  },
  {
   "cell_type": "code",
   "execution_count": null,
   "id": "c9f7f06c-b94c-46e2-a0a7-eee77328205d",
   "metadata": {},
   "outputs": [],
   "source": []
  }
 ],
 "metadata": {
  "kernelspec": {
   "display_name": "Python 3 (ipykernel)",
   "language": "python",
   "name": "python3"
  },
  "language_info": {
   "codemirror_mode": {
    "name": "ipython",
    "version": 3
   },
   "file_extension": ".py",
   "mimetype": "text/x-python",
   "name": "python",
   "nbconvert_exporter": "python",
   "pygments_lexer": "ipython3",
   "version": "3.10.0"
  }
 },
 "nbformat": 4,
 "nbformat_minor": 5
}
