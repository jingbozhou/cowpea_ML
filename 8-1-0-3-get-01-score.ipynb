{
 "cells": [
  {
   "cell_type": "code",
   "execution_count": 1,
   "id": "0ef69b0c-4fcd-4e08-9b77-42c20efccf81",
   "metadata": {},
   "outputs": [],
   "source": [
    "import os\n",
    "import numpy as np\n",
    "import pandas as pd\n",
    "\n",
    "from mpire import WorkerPool\n",
    "\n",
    "RAW_SNP_PATH = \"/data2/zhoujb/project/cowpea_project/basedXPXLR/snpDir/\"\n",
    "RAW_RES_PATH = \"/data2/zhoujb/project/cowpea_project/basedXPXLR/Result/\"\n",
    "NEW_SNP_PATH = \"/data2/zhoujb/project/cowpea_project/basedXPXLR/offspring/01/snpDir/\"\n",
    "NEW_RES_PATH = \"/data2/zhoujb/project/cowpea_project/basedXPXLR/offspring/01/Result/\"\n",
    "REF_PATH = \"/data1/zhoujb/cowpeaSequence/refernce/\"\n",
    "TEMP_PATH = \"/data2/zhoujb/project/cowpea_project/basedXPXLR/templateSNP/\""
   ]
  },
  {
   "cell_type": "code",
   "execution_count": 2,
   "id": "e182ec9d-4a25-4ed5-bc2e-d4829adc0fc4",
   "metadata": {},
   "outputs": [],
   "source": [
    "genotype_hap_id = pd.read_table(os.path.join(NEW_RES_PATH, \"Genotype_by_Hap_01.tsv\"), index_col=\"Region_index\")\n",
    "\n",
    "haplotype_score_info = pd.read_table(os.path.join(RAW_RES_PATH, \"Haplotype_Score_Info.tsv\"), index_col=\"Haplotype_ID\")\n",
    "haplotype_score_info = haplotype_score_info[['Hap_Score.by_Total_pop','Hap_Score.by_VL_pop', 'Hap_Score.by_G_pop', 'Hap_Score.by_VC_pop']].copy()\n",
    "\n",
    "name_list = []\n",
    "with open(\"/data2/zhoujb/project/cowpea_project/runWES/P01_10_res/config_bam\") as name_f:\n",
    "    for line in name_f:\n",
    "        if line.startswith(\"01\"):\n",
    "            name_list.append(line.split(\"\\t\")[0])\n",
    "\n",
    "\n",
    "output_file = open(os.path.join(NEW_RES_PATH, \"Samples_Score_Info_01.tsv\"), \"w\")\n",
    "print(\"\\t\".join([\"Sample\", \"Mis_Hap_Num\", \n",
    "                 \"Hap_Score.by_Total_pop\", \"Hap_Score.by_VL_pop\", \"Hap_Score.by_G_pop\", \"Hap_Score.by_VC_pop\"]), file=output_file)\n",
    "\n",
    "for index in name_list:\n",
    "    tmp_hap_id = [x for x in genotype_hap_id[index].values if x != \"-\"]\n",
    "    mis_hap_num = len([x for x in genotype_hap_id[index].values if x == \"-\"])\n",
    "    tmp_score = haplotype_score_info.loc[tmp_hap_id]\n",
    "    tmp_sum = tmp_score.sum()\n",
    "    final_score = [tmp_sum['Hap_Score.by_Total_pop']/854.768527747741*100, \n",
    "                   tmp_sum['Hap_Score.by_VL_pop']/952.5366599029439*100, \n",
    "                   tmp_sum['Hap_Score.by_G_pop']/547.8057376793577*100, \n",
    "                  tmp_sum['Hap_Score.by_VC_pop']/989.25449595043*100]\n",
    "    \n",
    "    print(\"\\t\".join([index, str(mis_hap_num)]+[str(x) for x in final_score]), file=output_file)\n",
    "\n",
    "output_file.close()"
   ]
  },
  {
   "cell_type": "code",
   "execution_count": null,
   "id": "62e2fe67-1871-4e39-b540-1db9acddcd5c",
   "metadata": {},
   "outputs": [],
   "source": []
  },
  {
   "cell_type": "code",
   "execution_count": null,
   "id": "b0271386-a148-49ec-803d-ab6f7015dd85",
   "metadata": {},
   "outputs": [],
   "source": []
  },
  {
   "cell_type": "code",
   "execution_count": null,
   "id": "51740091-642b-4180-abab-998a80d8f1a2",
   "metadata": {},
   "outputs": [],
   "source": []
  },
  {
   "cell_type": "code",
   "execution_count": null,
   "id": "b3aa9a52-d63e-4265-9054-0b12350c7f52",
   "metadata": {},
   "outputs": [],
   "source": []
  },
  {
   "cell_type": "code",
   "execution_count": null,
   "id": "736ab307-36ba-4d4e-900e-b920517ecedf",
   "metadata": {},
   "outputs": [],
   "source": []
  }
 ],
 "metadata": {
  "kernelspec": {
   "display_name": "Python 3 (ipykernel)",
   "language": "python",
   "name": "python3"
  },
  "language_info": {
   "codemirror_mode": {
    "name": "ipython",
    "version": 3
   },
   "file_extension": ".py",
   "mimetype": "text/x-python",
   "name": "python",
   "nbconvert_exporter": "python",
   "pygments_lexer": "ipython3",
   "version": "3.10.0"
  }
 },
 "nbformat": 4,
 "nbformat_minor": 5
}
