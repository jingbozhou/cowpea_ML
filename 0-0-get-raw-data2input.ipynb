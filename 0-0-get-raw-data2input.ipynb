{
 "cells": [
  {
   "cell_type": "code",
   "execution_count": 1,
   "id": "010d0839-8c5c-4655-b1fe-bbfde402c99a",
   "metadata": {},
   "outputs": [],
   "source": [
    "import os, collections\n",
    "import numpy as np\n",
    "import pandas as pd\n",
    "\n",
    "RAW_PATH = \"/data2/zhoujb/project/cowpea_project/rawData/\""
   ]
  },
  {
   "cell_type": "code",
   "execution_count": 7,
   "id": "712a04dd-8407-4ca2-b895-f8ff58790d74",
   "metadata": {},
   "outputs": [],
   "source": [
    "#处理原始的SNP文件，分成每一个染色体一个文件\n",
    "raw_snp = pd.read_table(os.path.join(RAW_PATH, \"AK808.ho.0.1.snplist\"))\n",
    "for group in raw_snp.groupby(\"#Chr\"):\n",
    "    group_name, group_data = group\n",
    "    if group_name in ['Chr01', 'Chr02', 'Chr03', 'Chr04', 'Chr05', 'Chr06', 'Chr07', 'Chr08', 'Chr09', 'Chr10', 'Chr11']:\n",
    "        group_data.to_csv(os.path.join(RAW_PATH, \"{}.snplist\".format(group_name)), sep=\"\\t\", index=0)"
   ]
  },
  {
   "cell_type": "code",
   "execution_count": 3,
   "id": "587fdb5e-f288-4014-af28-04993c8937d6",
   "metadata": {},
   "outputs": [
    {
     "data": {
      "text/plain": [
       "#Chr\n",
       "Chr10                          154786\n",
       "Chr03                          136472\n",
       "Chr11                          133184\n",
       "Chr04                          126443\n",
       "Chr06                          108691\n",
       "Chr05                           88721\n",
       "Chr07                           77724\n",
       "Chr09                           77690\n",
       "Chr08                           70523\n",
       "Chr02                           70275\n",
       "Chr01                           67262\n",
       "ptg000012l_ERROPOS19800000_       152\n",
       "ptg000032l                         24\n",
       "ptg000012l_ERROPOS14700000         20\n",
       "Name: count, dtype: int64"
      ]
     },
     "execution_count": 3,
     "metadata": {},
     "output_type": "execute_result"
    }
   ],
   "source": [
    "raw_snp[\"#Chr\"].value_counts()"
   ]
  },
  {
   "cell_type": "code",
   "execution_count": null,
   "id": "a334597b-4325-45c7-bc6d-0ff8ed5605ad",
   "metadata": {},
   "outputs": [],
   "source": []
  },
  {
   "cell_type": "code",
   "execution_count": 2,
   "id": "149bcc9a-660f-4efb-ba81-2e718b479f43",
   "metadata": {},
   "outputs": [],
   "source": [
    "raw_region = pd.read_excel(os.path.join(RAW_PATH, \"XP-CLR.xlsx\"))\n",
    "raw_region = raw_region.drop_duplicates(subset=['Chromosome', 'Region start (bp)', 'Region end (bp)'])\n",
    "raw_region = raw_region.sort_values(by=['Chromosome', 'Region start (bp)', 'Region end (bp)'])\n",
    "raw_region.to_csv(os.path.join(RAW_PATH, \"XP-CLR_region.txt\"), sep=\"\\t\", index=0)"
   ]
  },
  {
   "cell_type": "code",
   "execution_count": 4,
   "id": "ebb88008-f8dd-4438-b167-da980d08e0c8",
   "metadata": {},
   "outputs": [
    {
     "data": {
      "text/html": [
       "<div>\n",
       "<style scoped>\n",
       "    .dataframe tbody tr th:only-of-type {\n",
       "        vertical-align: middle;\n",
       "    }\n",
       "\n",
       "    .dataframe tbody tr th {\n",
       "        vertical-align: top;\n",
       "    }\n",
       "\n",
       "    .dataframe thead th {\n",
       "        text-align: right;\n",
       "    }\n",
       "</style>\n",
       "<table border=\"1\" class=\"dataframe\">\n",
       "  <thead>\n",
       "    <tr style=\"text-align: right;\">\n",
       "      <th></th>\n",
       "      <th>Comparison</th>\n",
       "      <th>Chromosome</th>\n",
       "      <th>Region start (bp)</th>\n",
       "      <th>Region end (bp)</th>\n",
       "      <th>Region length(bp)</th>\n",
       "      <th>Gene Number</th>\n",
       "      <th>xpclr ratio</th>\n",
       "    </tr>\n",
       "  </thead>\n",
       "  <tbody>\n",
       "    <tr>\n",
       "      <th>639</th>\n",
       "      <td>VL/G</td>\n",
       "      <td>Chr09</td>\n",
       "      <td>1</td>\n",
       "      <td>170000</td>\n",
       "      <td>169999</td>\n",
       "      <td>19</td>\n",
       "      <td>65.023920</td>\n",
       "    </tr>\n",
       "    <tr>\n",
       "      <th>529</th>\n",
       "      <td>G/VC</td>\n",
       "      <td>Chr10</td>\n",
       "      <td>1</td>\n",
       "      <td>430000</td>\n",
       "      <td>429999</td>\n",
       "      <td>40</td>\n",
       "      <td>24.895694</td>\n",
       "    </tr>\n",
       "  </tbody>\n",
       "</table>\n",
       "</div>"
      ],
      "text/plain": [
       "    Comparison  Chromosome  Region start (bp)  Region end (bp)  \\\n",
       "639        VL/G      Chr09                  1           170000   \n",
       "529        G/VC      Chr10                  1           430000   \n",
       "\n",
       "     Region length(bp)  Gene Number  xpclr ratio  \n",
       "639             169999           19    65.023920  \n",
       "529             429999           40    24.895694  "
      ]
     },
     "execution_count": 4,
     "metadata": {},
     "output_type": "execute_result"
    }
   ],
   "source": [
    "raw_region[raw_region[\"Region start (bp)\"]==1]"
   ]
  },
  {
   "cell_type": "code",
   "execution_count": 2,
   "id": "ed50acc8-ab14-4376-877c-ee76b6ce4d25",
   "metadata": {},
   "outputs": [],
   "source": [
    "detail_info = pd.read_excel(os.path.join(RAW_PATH, \"Detail_information_344.xlsx\"), index_col=\"Genotype No.\")\n",
    "detail_info[\"Type\"] = detail_info[\"Types\"].map({'Grain':\"G\", 'V-landrace':\"VL\", '-':\"NA\", 'V-cultivar':\"VC\"})"
   ]
  },
  {
   "cell_type": "code",
   "execution_count": 4,
   "id": "a45ee44d-3eee-4530-9d40-eb39e29e3efb",
   "metadata": {},
   "outputs": [
    {
     "data": {
      "text/plain": [
       "Type\n",
       "VL    164\n",
       "G      87\n",
       "VC     80\n",
       "NA     13\n",
       "Name: count, dtype: int64"
      ]
     },
     "execution_count": 4,
     "metadata": {},
     "output_type": "execute_result"
    }
   ],
   "source": [
    "detail_info[\"Type\"].value_counts()"
   ]
  }
 ],
 "metadata": {
  "kernelspec": {
   "display_name": "Python 3 (ipykernel)",
   "language": "python",
   "name": "python3"
  },
  "language_info": {
   "codemirror_mode": {
    "name": "ipython",
    "version": 3
   },
   "file_extension": ".py",
   "mimetype": "text/x-python",
   "name": "python",
   "nbconvert_exporter": "python",
   "pygments_lexer": "ipython3",
   "version": "3.11.4"
  }
 },
 "nbformat": 4,
 "nbformat_minor": 5
}
