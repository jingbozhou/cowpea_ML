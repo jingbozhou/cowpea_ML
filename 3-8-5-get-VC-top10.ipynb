{
 "cells": [
  {
   "cell_type": "code",
   "execution_count": 1,
   "id": "40f2805b-cbe1-481d-a223-771e94f09958",
   "metadata": {},
   "outputs": [],
   "source": [
    "import os, itertools, subprocess\n",
    "import numpy as np\n",
    "import pandas as pd\n",
    "\n",
    "from mpire import WorkerPool\n",
    "\n",
    "RAW_PATH = \"/data2/zhoujb/project/cowpea_project/rawData/\"\n",
    "RES_PATH = \"/data2/zhoujb/project/cowpea_project/basedXPXLR/Result/\"\n",
    "CROSS_PATH = \"/data2/zhoujb/project/cowpea_project/basedXPXLR/Cross_Analysis_Results/rawCross/\"\n",
    "CROSS_RES_PATH = \"/data2/zhoujb/project/cowpea_project/basedXPXLR/Cross_Analysis_Results/VCCross/CrossRes/\"\n",
    "VC_CROSS_PATH = \"/data2/zhoujb/project/cowpea_project/basedXPXLR/Cross_Analysis_Results/VCCross/\""
   ]
  },
  {
   "cell_type": "code",
   "execution_count": 2,
   "id": "61b41aed-1d58-4d52-86aa-e6d82eaaf10e",
   "metadata": {},
   "outputs": [],
   "source": [
    "output_file = pd.DataFrame()\n",
    "file_dir = os.listdir(CROSS_RES_PATH)\n",
    "for file_name in file_dir:\n",
    "    tmp_data = pd.read_table(os.path.join(CROSS_RES_PATH, file_name))\n",
    "    tmp_data = tmp_data[tmp_data[\"Delta_score\"]>0]\n",
    "    tmp_data = tmp_data.head(10)\n",
    "    output_file = pd.concat([output_file, tmp_data], axis=0, ignore_index=True)\n",
    "\n",
    "output_file.to_csv(os.path.join(VC_CROSS_PATH, \"VC_P1_P2_CROSS_TOP10.txt\"), sep=\"\\t\", index=0)\n",
    "\n",
    "output_file[[\"P1\", \"P2\"]].to_csv(os.path.join(VC_CROSS_PATH, \"VC_P1_P2_TOP10.txt\"), sep=\"\\t\", index=0)"
   ]
  },
  {
   "cell_type": "code",
   "execution_count": null,
   "id": "2513089b-e0ad-44cf-92f2-ecf0b4ed460c",
   "metadata": {},
   "outputs": [],
   "source": []
  },
  {
   "cell_type": "code",
   "execution_count": 4,
   "id": "a291b190-b94d-4376-a552-fb16b743e9bc",
   "metadata": {},
   "outputs": [],
   "source": [
    "p1_p2_info = pd.read_table(os.path.join(VC_CROSS_PATH, \"VC_P1_P2_CROSS_TOP10.txt\"))\n",
    "p2_info = pd.DataFrame(columns=[\"P2\", \"P2_score\", \"P2_donate_times\", \n",
    "                                \"Optimal_score_mean\", \"Delta_score_mean\", \"Same_mean\", \"Keep_mean\", \"Replaced_by_P2_mean\"])\n",
    "for group in p1_p2_info.groupby(\"P2\"):\n",
    "    group_name, group_data = group\n",
    "    p2_score = group_data[\"P2_score\"].mean()\n",
    "    p2_donate_times = len(group_data)\n",
    "    optimal_score_mean = group_data['Optimal_score'].mean()\n",
    "    delta_score_mean = group_data['Delta_score'].mean()\n",
    "    same_mean = group_data['Same'].mean()\n",
    "    keep_mean = group_data['Keep'].mean()\n",
    "    replaced_by_p2_mean = group_data['Replaced_by_P2'].mean()\n",
    "    p2_info.loc[len(p2_info)] = [group_name, p2_score, p2_donate_times, \n",
    "                                 optimal_score_mean, delta_score_mean, same_mean, keep_mean, replaced_by_p2_mean]\n",
    "    #print(group_name, len(group_data))\n",
    "\n",
    "p2_info = p2_info.sort_values(by=[\"P2_donate_times\"], ascending=[False])\n",
    "p2_info.to_csv(os.path.join(VC_CROSS_PATH, \"VC_TOP10_P2_info.txt\"), sep=\"\\t\", index=0)"
   ]
  },
  {
   "cell_type": "code",
   "execution_count": null,
   "id": "4711680f-2b98-441c-813f-a90de922a4b0",
   "metadata": {},
   "outputs": [],
   "source": []
  },
  {
   "cell_type": "code",
   "execution_count": 3,
   "id": "3c9b0b51-2b03-4ac0-b8db-f8846e524dd5",
   "metadata": {},
   "outputs": [],
   "source": [
    "p2_info = pd.read_table(os.path.join(VC_CROSS_PATH, \"VC_TOP10_P2_info.txt\"))\n",
    "for index in p2_info.head(10).index:\n",
    "    p2_name = p2_info.loc[index, \"P2\"]\n",
    "    tmp_file = pd.read_table(os.path.join(CROSS_RES_PATH, \"{}.cross.res\".format(p2_name)))\n",
    "    tmp_file.to_excel(os.path.join(VC_CROSS_PATH, \"VCTmpFile/{}_cross_res.xlsx\".format(p2_name)), index=0)\n",
    "    del p2_name, tmp_file"
   ]
  },
  {
   "cell_type": "code",
   "execution_count": null,
   "id": "dd79188a-5300-4edc-b052-91d19b2019aa",
   "metadata": {},
   "outputs": [],
   "source": []
  }
 ],
 "metadata": {
  "kernelspec": {
   "display_name": "Python 3 (ipykernel)",
   "language": "python",
   "name": "python3"
  },
  "language_info": {
   "codemirror_mode": {
    "name": "ipython",
    "version": 3
   },
   "file_extension": ".py",
   "mimetype": "text/x-python",
   "name": "python",
   "nbconvert_exporter": "python",
   "pygments_lexer": "ipython3",
   "version": "3.10.0"
  }
 },
 "nbformat": 4,
 "nbformat_minor": 5
}
