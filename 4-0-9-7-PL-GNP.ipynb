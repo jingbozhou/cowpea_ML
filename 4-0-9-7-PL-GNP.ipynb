{
 "cells": [
  {
   "cell_type": "code",
   "execution_count": 1,
   "id": "b2446825-7290-4400-aa57-2a80e70b88bb",
   "metadata": {},
   "outputs": [],
   "source": [
    "%matplotlib inline\n",
    "import os, pickle, logging, pickle, joblib, sys, warnings\n",
    "warnings.simplefilter('ignore')\n",
    "from scipy import stats\n",
    "import numpy as np\n",
    "import pandas as pd\n",
    "\n",
    "import matplotlib as mpl\n",
    "import matplotlib.pyplot as plt\n",
    "import seaborn as sns\n",
    "\n",
    "import catboost as cb\n",
    "\n",
    "from sklearn import ensemble, metrics, pipeline, preprocessing, impute, model_selection\n",
    "from scipy.stats import pearsonr, spearmanr\n",
    "\n",
    "import shap\n",
    "\n",
    "font_path = \"/home/zhoujb/local/font/Times New Roman.ttf\"\n",
    "mpl.font_manager.fontManager.addfont(font_path)\n",
    "prop = mpl.font_manager.FontProperties(fname=font_path)\n",
    "mpl.rcParams['font.family'] = prop.get_name()\n",
    "mpl.rcParams['font.sans-serif'] = [\"Times New Roman\"]\n",
    "mpl.rcParams['axes.unicode_minus'] = False\n",
    "plt.rcParams['pdf.fonttype'] = 42\n",
    "\n",
    "RAW_PATH = \"/data2/zhoujb/project/cowpea_project/rawData/\"\n",
    "ML_RAW_PATH = \"/data2/zhoujb/project/cowpea_project/basedXPXLR/ML/rawData/\"\n",
    "FS_PATH = \"/data2/zhoujb/project/cowpea_project/basedXPXLR/ML/fs_PL/\"\n",
    "TEST_RES_PATH = \"/data2/zhoujb/project/cowpea_project/basedXPXLR/ML/tesRes/\"\n",
    "FIG_PATH = \"/data2/zhoujb/project/cowpea_project/basedXPXLR/ML/figRes/\""
   ]
  },
  {
   "cell_type": "code",
   "execution_count": 2,
   "id": "7bc456f4-f414-4539-b464-4c19203aab31",
   "metadata": {},
   "outputs": [],
   "source": [
    "feat_col_raw = []\n",
    "with open(os.path.join(FS_PATH, \"cb_rfa_cv_pl_rmse\")) as f:\n",
    "    for line in f:\n",
    "        feat_col_raw.append(line.strip())\n",
    "\n",
    "feat_col = []\n",
    "feat_col_map = {}\n",
    "for item in feat_col_raw:\n",
    "    feat_col.append(item[4:])\n",
    "    feat_col_map[item] = item[4:]\n",
    "\n",
    "raw_data = pd.read_table(os.path.join(ML_RAW_PATH, \"raw_data_PL.txt\"), sep=\"\\t\", index_col=0)\n",
    "raw_data = raw_data.rename(columns=feat_col_map)\n",
    "target_col = ['HZ-PL']\n",
    "\n",
    "raw_data_sel = raw_data[feat_col].copy()\n",
    "detail_info = pd.read_excel(os.path.join(RAW_PATH, \"Detail_information_344.xlsx\"), index_col=\"Genotype No.\")\n",
    "detail_info = detail_info.loc[raw_data_sel.index]\n",
    "detail_info[\"Type\"] = detail_info[\"Types\"].map({'Grain':\"G\", 'V-landrace':\"VL\", '-':\"NA\", 'V-cultivar':\"VC\"})\n",
    "\n",
    "target_df = raw_data[target_col]\n",
    "target_df = target_df.loc[raw_data_sel.index]\n",
    "\n",
    "data_sel_info = pd.concat([raw_data_sel, detail_info[[\"Type\"]], target_df], axis=1, sort=False)\n",
    "data_sel_info = data_sel_info.loc[raw_data_sel.index]\n",
    "data_sel_info = data_sel_info.reset_index()"
   ]
  },
  {
   "cell_type": "code",
   "execution_count": 3,
   "id": "60f17acc-302f-4321-ac2f-6e1ebbc9153e",
   "metadata": {},
   "outputs": [],
   "source": [
    "data_for_plot = data_sel_info[[\"GNP\", \"Type\", \"HZ-PL\"]].copy()\n",
    "data_for_plot.loc[data_for_plot[\"GNP\"]>data_for_plot[\"GNP\"].median(), \"GNP_type\"] = \"High\"\n",
    "data_for_plot.loc[data_for_plot[\"GNP\"]<=data_for_plot[\"GNP\"].median(), \"GNP_type\"] = \"Low\""
   ]
  },
  {
   "cell_type": "code",
   "execution_count": 7,
   "id": "2584bb2a-88c2-4d60-988c-da269a0285f7",
   "metadata": {},
   "outputs": [
    {
     "data": {
      "image/png": "[encoded data removed]",
      "text/plain": [
       "<Figure size 400x400 with 1 Axes>"
      ]
     },
     "metadata": {},
     "output_type": "display_data"
    }
   ],
   "source": [
    "with plt.rc_context():\n",
    "    sns.set(style=\"ticks\", font_scale=1, rc={'figure.figsize':(4, 4)})\n",
    "\n",
    "    mpl.rcParams['font.family'] = prop.get_name()\n",
    "    mpl.rcParams['font.sans-serif'] = [\"Times New Roman\"]\n",
    "    mpl.rcParams['axes.unicode_minus'] = False\n",
    "    \n",
    "    box_ax = sns.boxplot(data=data_for_plot, x=\"GNP_type\", y=\"HZ-PL\", hue=\"Type\", showfliers = True,\n",
    "                          hue_order=[\"VC\", \"VL\", \"G\", \"NA\"],\n",
    "                        boxprops={'alpha': 1})\n",
    "    box_ax.set(xlabel=\"\", ylabel=\"PL\")\n",
    "    box_ax.spines.right.set_visible(False)\n",
    "    box_ax.spines.top.set_visible(False)\n",
    "\n",
    "    box_ax.legend(bbox_to_anchor=(1.05, 1), frameon=False)\n",
    "\n",
    "    #plt.savefig(os.path.join(FIG_PATH, \"fig_3_PL_PSugar_value.pdf\"), format=\"pdf\", bbox_inches=\"tight\", transparent=True)"
   ]
  },
  {
   "cell_type": "code",
   "execution_count": 5,
   "id": "63fc3391-e89e-4765-9ef3-e6fe97ffeeaf",
   "metadata": {},
   "outputs": [
    {
     "data": {
      "text/plain": [
       "GNP_type\n",
       "Low     144\n",
       "High    142\n",
       "Name: count, dtype: int64"
      ]
     },
     "execution_count": 5,
     "metadata": {},
     "output_type": "execute_result"
    }
   ],
   "source": [
    "data_for_plot[\"GNP_type\"].value_counts()"
   ]
  },
  {
   "cell_type": "code",
   "execution_count": 6,
   "id": "9510ac41-7f6c-4028-a72d-e73665f89837",
   "metadata": {},
   "outputs": [
    {
     "data": {
      "text/plain": [
       "286"
      ]
     },
     "execution_count": 6,
     "metadata": {},
     "output_type": "execute_result"
    }
   ],
   "source": [
    "144 +142"
   ]
  },
  {
   "cell_type": "code",
   "execution_count": null,
   "id": "982c3d8e-4515-4ece-bd94-144890b17a17",
   "metadata": {},
   "outputs": [],
   "source": []
  }
 ],
 "metadata": {
  "kernelspec": {
   "display_name": "Python 3 (ipykernel)",
   "language": "python",
   "name": "python3"
  },
  "language_info": {
   "codemirror_mode": {
    "name": "ipython",
    "version": 3
   },
   "file_extension": ".py",
   "mimetype": "text/x-python",
   "name": "python",
   "nbconvert_exporter": "python",
   "pygments_lexer": "ipython3",
   "version": "3.10.0"
  }
 },
 "nbformat": 4,
 "nbformat_minor": 5
}
