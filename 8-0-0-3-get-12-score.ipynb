{
 "cells": [
  {
   "cell_type": "code",
   "execution_count": 2,
   "id": "befc27d1-a3c2-45fe-97b0-b815fd9906dc",
   "metadata": {},
   "outputs": [],
   "source": [
    "import os\n",
    "import numpy as np\n",
    "import pandas as pd\n",
    "\n",
    "from mpire import WorkerPool\n",
    "\n",
    "RAW_SNP_PATH = \"/data2/zhoujb/project/cowpea_project/basedXPXLR/snpDir/\"\n",
    "RAW_RES_PATH = \"/data2/zhoujb/project/cowpea_project/basedXPXLR/Result/\"\n",
    "NEW_SNP_PATH = \"/data2/zhoujb/project/cowpea_project/basedXPXLR/offspring/12/snpDir/\"\n",
    "NEW_RES_PATH = \"/data2/zhoujb/project/cowpea_project/basedXPXLR/offspring/12/Result/\"\n",
    "REF_PATH = \"/data1/zhoujb/cowpeaSequence/refernce/\"\n",
    "TEMP_PATH = \"/data2/zhoujb/project/cowpea_project/basedXPXLR/templateSNP/\""
   ]
  },
  {
   "cell_type": "code",
   "execution_count": 3,
   "id": "f5f51ba5-4fc1-41cd-903f-5e28f063ce63",
   "metadata": {},
   "outputs": [],
   "source": [
    "genotype_hap_id = pd.read_table(os.path.join(NEW_RES_PATH, \"Genotype_by_Hap_four.tsv\"), index_col=\"Region_index\")\n",
    "\n",
    "haplotype_score_info = pd.read_table(os.path.join(RAW_RES_PATH, \"Haplotype_Score_Info.tsv\"), index_col=\"Haplotype_ID\")\n",
    "haplotype_score_info = haplotype_score_info[['Hap_Score.by_Total_pop','Hap_Score.by_VL_pop', 'Hap_Score.by_G_pop', 'Hap_Score.by_VC_pop']].copy()\n",
    "\n",
    "name_list = []\n",
    "with open(\"/data2/zhoujb/project/cowpea_project/runWES/2_getMut/config_bam\") as name_f:\n",
    "    for line in name_f:\n",
    "        name_list.append(line.split(\"\\t\")[0])\n",
    "\n",
    "\n",
    "output_file = open(os.path.join(NEW_RES_PATH, \"Samples_Score_Info_four.tsv\"), \"w\")\n",
    "print(\"\\t\".join([\"Sample\", \"Mis_Hap_Num\", \n",
    "                 \"Hap_Score.by_Total_pop\", \"Hap_Score.by_VL_pop\", \"Hap_Score.by_G_pop\", \"Hap_Score.by_VC_pop\"]), file=output_file)\n",
    "\n",
    "for index in name_list:\n",
    "    tmp_hap_id = [x for x in genotype_hap_id[index].values if x != \"-\"]\n",
    "    mis_hap_num = len([x for x in genotype_hap_id[index].values if x == \"-\"])\n",
    "    tmp_score = haplotype_score_info.loc[tmp_hap_id]\n",
    "    tmp_sum = tmp_score.sum()\n",
    "    final_score = [tmp_sum['Hap_Score.by_Total_pop']/854.768527747741*100, \n",
    "                   tmp_sum['Hap_Score.by_VL_pop']/952.5366599029439*100, \n",
    "                   tmp_sum['Hap_Score.by_G_pop']/547.8057376793577*100, \n",
    "                  tmp_sum['Hap_Score.by_VC_pop']/989.25449595043*100]\n",
    "    \n",
    "    print(\"\\t\".join([index, str(mis_hap_num)]+[str(x) for x in final_score]), file=output_file)\n",
    "\n",
    "output_file.close()"
   ]
  },
  {
   "cell_type": "code",
   "execution_count": null,
   "id": "9d2adfaa-2755-462b-b2af-f5e8dae20366",
   "metadata": {},
   "outputs": [],
   "source": []
  }
 ],
 "metadata": {
  "kernelspec": {
   "display_name": "Python 3 (ipykernel)",
   "language": "python",
   "name": "python3"
  },
  "language_info": {
   "codemirror_mode": {
    "name": "ipython",
    "version": 3
   },
   "file_extension": ".py",
   "mimetype": "text/x-python",
   "name": "python",
   "nbconvert_exporter": "python",
   "pygments_lexer": "ipython3",
   "version": "3.10.0"
  }
 },
 "nbformat": 4,
 "nbformat_minor": 5
}
