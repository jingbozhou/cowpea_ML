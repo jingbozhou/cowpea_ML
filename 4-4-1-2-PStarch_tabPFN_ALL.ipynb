{
 "cells": [
  {
   "cell_type": "code",
   "execution_count": 1,
   "id": "45c78cff-a3ca-4a4b-9995-597c36a38353",
   "metadata": {},
   "outputs": [],
   "source": [
    "import os, pickle, logging, pickle, joblib, sys, warnings, time\n",
    "warnings.simplefilter('ignore')\n",
    "from scipy import stats\n",
    "import numpy as np\n",
    "import pandas as pd\n",
    "\n",
    "#import catboost as cb\n",
    "\n",
    "from sklearn import ensemble, metrics, pipeline, preprocessing, impute, model_selection\n",
    "from scipy.stats import pearsonr, spearmanr\n",
    "\n",
    "import torch\n",
    "from tabpfn import TabPFNRegressor\n",
    "\n",
    "#from shaphypetune import BoostRFE, BoostBoruta\n",
    "\n",
    "ML_RAW_PATH = \"/data2/zhoujb/project/cowpea_project/basedXPXLR/ML/rawData/\"\n",
    "TEST_RES_PATH = \"/data2/zhoujb/project/cowpea_project/basedXPXLR/ML/tesRes/\""
   ]
  },
  {
   "cell_type": "code",
   "execution_count": 2,
   "id": "1ef148df-918e-4e57-a037-e809e40c7d86",
   "metadata": {},
   "outputs": [
    {
     "name": "stdout",
     "output_type": "stream",
     "text": [
      "Round 0 start...\n",
      "Round 0:271.78341007232666\n",
      "Round 1 start...\n",
      "Round 1:267.3876416683197\n",
      "Round 2 start...\n",
      "Round 2:261.174782037735\n",
      "Round 3 start...\n",
      "Round 3:254.7852590084076\n",
      "Round 4 start...\n",
      "Round 4:252.9886019229889\n",
      "ALL DONE\n"
     ]
    }
   ],
   "source": [
    "raw_data = pd.read_table(os.path.join(ML_RAW_PATH, \"raw_data_PStarch.txt\"), sep=\"\\t\", index_col=0)\n",
    "\n",
    "target_col = ['HZ-PStarch']\n",
    "raw_data = raw_data.dropna(subset=target_col)\n",
    "\n",
    "feat_col = [x for x in raw_data.columns if x.startswith(\"fea_\")]\n",
    "\n",
    "kf = model_selection.KFold(n_splits=5, shuffle=True,  random_state=0)\n",
    "y_test_final, y_pred_final = [], []\n",
    "for i, (train_index, test_index) in enumerate(kf.split(raw_data)):\n",
    "    print(\"Round {} start...\".format(i))\n",
    "    start_time = time.time()\n",
    "    \n",
    "    data_train = raw_data.iloc[train_index].copy()\n",
    "    data_test = raw_data.iloc[test_index].copy()\n",
    "\n",
    "    scale_tool = preprocessing.StandardScaler()\n",
    "    scale_tool.fit(data_train.loc[:, feat_col])\n",
    "    data_train.loc[:, feat_col] = scale_tool.transform(data_train.loc[:, feat_col])\n",
    "    data_test.loc[:, feat_col] = scale_tool.transform(data_test.loc[:, feat_col])\n",
    "\n",
    "    #train_sel = data_train.sample(frac=0.8, random_state=0)\n",
    "    #val_sel = data_train.drop(train_sel.index).copy()\n",
    "\n",
    "    #X_train = train_sel[feat_col].copy()\n",
    "    #y_train = train_sel[target_col].values.ravel()\n",
    "\n",
    "    #X_val = val_sel[feat_col].copy()\n",
    "    #y_val = val_sel[target_col].values.ravel()\n",
    "\n",
    "    X_train = data_train[feat_col].copy()\n",
    "    y_train = data_train[target_col].values.ravel()\n",
    "\n",
    "    X_test = data_test[feat_col].copy()\n",
    "    y_test = data_test[target_col].values.ravel()\n",
    "\n",
    "    # Initialize CatBoostClassifier\n",
    "    os.environ[\"TABPFN_MODEL_CACHE_DIR\"] = \"/data2/zhoujb/package/tabpfn_ckpt\"\n",
    "    # >500 ignore_pretraining_limits=True\n",
    "    clf_model =  TabPFNRegressor(device=\"cpu\", random_state=0, n_jobs=-1, ignore_pretraining_limits=True) \n",
    "    # Fit model\n",
    "    clf_model.fit(X_train, y_train)\n",
    "\n",
    "    y_pred = clf_model.predict(X_test)\n",
    "\n",
    "    y_test_final.append(y_test)\n",
    "    y_pred_final.append(y_pred)\n",
    "\n",
    "    end_time = time.time()\n",
    "    print(\"Round {}:{}\".format(i, end_time-start_time))\n",
    "\n",
    "print(\"ALL DONE\")"
   ]
  },
  {
   "cell_type": "code",
   "execution_count": 3,
   "id": "87e44daa-5b0b-4534-a0c6-3dd106b0e472",
   "metadata": {},
   "outputs": [],
   "source": [
    "res_df = pd.DataFrame(columns=[\"Model\", \"Times\", \"Score\", \"Type\"])\n",
    "for i in range(len(y_test_final)):\n",
    "    ## Get score\n",
    "    #score_pear = pearsonr(y_test_final[i], y_pred_final[i])[0]\n",
    "    score_spear = spearmanr(y_test_final[i], y_pred_final[i])[0]\n",
    "    score_rmse = metrics.root_mean_squared_error(y_test_final[i], y_pred_final[i])\n",
    "    score_nrmse = score_rmse / np.std(y_test_final[i])\n",
    "\n",
    "    #res_df.loc[len(res_df)] = [\"CB_ALL\", i+1, score_pear, \"R\"]\n",
    "    res_df.loc[len(res_df)] = [\"tabPFN_ALL\", i+1, score_spear, \"R\"]\n",
    "    res_df.loc[len(res_df)] = [\"tabPFN_ALL\", i+1, score_rmse, \"RMSE\"]\n",
    "    res_df.loc[len(res_df)] = [\"tabPFN_ALL\", i+1, score_nrmse, \"NRMSE\"]\n",
    "\n",
    "with open(os.path.join(TEST_RES_PATH, \"PStarch_tabPFN_ALL.pickle\"), \"wb\") as out_f:\n",
    "    pickle.dump(res_df, out_f)"
   ]
  },
  {
   "cell_type": "code",
   "execution_count": 4,
   "id": "83919184-16da-4810-ab1c-474df3f13733",
   "metadata": {},
   "outputs": [
    {
     "data": {
      "text/plain": [
       "Type\n",
       "NRMSE    0.855760\n",
       "R        0.504082\n",
       "RMSE     1.534826\n",
       "Name: Score, dtype: float64"
      ]
     },
     "execution_count": 4,
     "metadata": {},
     "output_type": "execute_result"
    }
   ],
   "source": [
    "res_df.groupby([\"Type\"])[\"Score\"].mean()"
   ]
  },
  {
   "cell_type": "code",
   "execution_count": null,
   "id": "9f65e9f6-957f-43d5-9f8c-3ed87e3274f3",
   "metadata": {},
   "outputs": [],
   "source": []
  }
 ],
 "metadata": {
  "kernelspec": {
   "display_name": "Python 3 (ipykernel)",
   "language": "python",
   "name": "python3"
  },
  "language_info": {
   "codemirror_mode": {
    "name": "ipython",
    "version": 3
   },
   "file_extension": ".py",
   "mimetype": "text/x-python",
   "name": "python",
   "nbconvert_exporter": "python",
   "pygments_lexer": "ipython3",
   "version": "3.10.0"
  }
 },
 "nbformat": 4,
 "nbformat_minor": 5
}
