{
 "cells": [
  {
   "cell_type": "code",
   "execution_count": null,
   "id": "a7d96819-15e1-4bb1-86eb-a7749a27af6b",
   "metadata": {},
   "outputs": [],
   "source": [
    "import os, subprocess\n",
    "import numpy as np\n",
    "import pandas as pd\n",
    "\n",
    "from mpire import WorkerPool\n",
    "\n",
    "CLUSTER_PATH = \"/data2/zhoujb/project/cowpea_project/basedXPXLR/SNPMMSeqCluster/\"\n",
    "\n",
    "def runMMSeq(file_name):\n",
    "    cmd = \"/data2/zhoujb/anaconda3/envs/cropgbm21/bin/mmseqs easy-cluster {} {} tmp_{} --min-seq-id 0.9 --cov-mode 0 --alignment-mode 3 --similarity-type 2 --cluster-mode 1 --threads 4\".format(file_name, file_name.split(\".\")[0], file_name.split(\".\")[0])\n",
    "    subprocess.run(cmd, shell=True)\n",
    "\n",
    "    return\n",
    "    \n",
    "if __name__ == \"__main__\":\n",
    "    file_list = [x for x in os.listdir(CLUSTER_PATH) if x.endswith(\"fa\")]\n",
    "    with WorkerPool(n_jobs=48) as pool:\n",
    "        pool.map(runMMSeq, file_list, progress_bar=True)\n",
    "\n",
    "print(\"ALL DONE\")\n"
   ]
  }
 ],
 "metadata": {
  "kernelspec": {
   "display_name": "Python 3 (ipykernel)",
   "language": "python",
   "name": "python3"
  },
  "language_info": {
   "codemirror_mode": {
    "name": "ipython",
    "version": 3
   },
   "file_extension": ".py",
   "mimetype": "text/x-python",
   "name": "python",
   "nbconvert_exporter": "python",
   "pygments_lexer": "ipython3",
   "version": "3.10.0"
  }
 },
 "nbformat": 4,
 "nbformat_minor": 5
}
