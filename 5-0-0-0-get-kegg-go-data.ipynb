{
 "cells": [
  {
   "cell_type": "code",
   "execution_count": 9,
   "id": "3234d1c9-7eb6-4ead-b5f3-d79b7d725d48",
   "metadata": {},
   "outputs": [],
   "source": [
    "import os, collections\n",
    "import numpy as np\n",
    "import pandas as pd\n",
    "\n",
    "#from gtfparse import read_gtf\n",
    "\n",
    "ONTO_PATH = \"/data2/zhoujb/project/cowpea_project/rawData/geneOntology/\""
   ]
  },
  {
   "cell_type": "code",
   "execution_count": 32,
   "id": "7f33a555-0983-4181-9585-8c3ed6425804",
   "metadata": {},
   "outputs": [
    {
     "name": "stderr",
     "output_type": "stream",
     "text": [
      "/tmp/ipykernel_364638/476523985.py:6: DtypeWarning: Columns (5,16) have mixed types. Specify dtype option on import or set low_memory=False.\n",
      "  raw_table = pd.read_table(os.path.join(ONTO_PATH, \"GCF_004118075.2_ASM411807v2_feature_table.txt\"))\n"
     ]
    }
   ],
   "source": [
    "chr_map = {1:\"Chr01\", 2:\"Chr02\", 3:\"Chr03\", \n",
    "           4:\"Chr04\", 5:\"Chr05\", 6:\"Chr06\", \n",
    "           7:\"Chr07\", 8:\"Chr08\", 9:\"Chr09\", \n",
    "           '9':\"Chr09\", '10':\"Chr10\", '11':\"Chr11\"}\n",
    "\n",
    "raw_table = pd.read_table(os.path.join(ONTO_PATH, \"GCF_004118075.2_ASM411807v2_feature_table.txt\"))\n",
    "raw_table_gene = raw_table[(raw_table['# feature']==\"gene\")&(raw_table[\"seq_type\"]==\"chromosome\")].copy()\n",
    "raw_table_gene[\"Chr\"] = raw_table_gene[\"chromosome\"].map(chr_map)\n",
    "\n",
    "raw_table_gene[['Chr', 'start', 'end', 'symbol', 'GeneID']].to_csv(os.path.join(ONTO_PATH, \"feature_table_gene_id.txt\"), sep=\"\\t\", index=0)"
   ]
  },
  {
   "cell_type": "code",
   "execution_count": null,
   "id": "1acf5d38-37c6-45e9-8942-0a694132c6b8",
   "metadata": {},
   "outputs": [],
   "source": []
  },
  {
   "cell_type": "code",
   "execution_count": 29,
   "id": "0aebd4f3-fa76-463b-bcf7-da3790d6d759",
   "metadata": {},
   "outputs": [
    {
     "name": "stdout",
     "output_type": "stream",
     "text": [
      "ALL DONE\n"
     ]
    }
   ],
   "source": [
    "go_id2name_d = {}\n",
    "with open(os.path.join(ONTO_PATH, \"go-basic.obo\")) as f:\n",
    "    for line in f:\n",
    "        if line.startswith(\"[Term]\"):\n",
    "            go_id = f.readline().strip()[4:]\n",
    "            go_name = f.readline().strip()[6:]\n",
    "            go_id2name_d[go_id] = go_name\n",
    "\n",
    "raw_gaf = pd.read_table(os.path.join(ONTO_PATH, \"GCF_004118075.2_ASM411807v2_gene_ontology.gaf\"), skiprows=8)\n",
    "\n",
    "with open(os.path.join(ONTO_PATH, \"go_gene_id.txt\"), \"w\") as out_f:\n",
    "    print(\"\\t\".join([\"GO_TYPE\", \"GO_ID\", \"GO_NAME\", \"Term\"]), file=out_f)\n",
    "\n",
    "    for group_aspect in raw_gaf.groupby(\"Aspect\"):\n",
    "        group_aspect_name, group_aspect_data = group_aspect\n",
    "        for group_go in group_aspect_data.groupby(\"GO_ID\"):\n",
    "            group_go_name, group_go_data = group_go\n",
    "            print(\"\\t\".join([group_aspect_name, group_go_name, go_id2name_d[group_go_name], \n",
    "                             \",\".join(group_go_data[\"Symbol\"].unique())]), file=out_f)\n",
    "print(\"ALL DONE\")"
   ]
  },
  {
   "cell_type": "code",
   "execution_count": null,
   "id": "18236d59-7da4-4bf3-9281-f19958bf8f83",
   "metadata": {},
   "outputs": [],
   "source": []
  },
  {
   "cell_type": "code",
   "execution_count": 46,
   "id": "b36ce390-c0ba-4650-a5af-e8041074defa",
   "metadata": {},
   "outputs": [],
   "source": [
    "kegg_id2name_d = {}\n",
    "with open(os.path.join(ONTO_PATH, \"vun_pathway_name_kegg\")) as f:\n",
    "    for line in f:\n",
    "        line = line.rstrip().split(\"\\t\")\n",
    "        kegg_name = line[1].split(\" - \")[0]\n",
    "        kegg_id2name_d[line[0]] = kegg_name\n",
    "\n",
    "\n",
    "kegg_id2list_d = collections.defaultdict(list)\n",
    "with open(os.path.join(ONTO_PATH, \"vun_pathway_list_kegg\")) as f:\n",
    "    for line in f:\n",
    "        line = line.rstrip().split()\n",
    "        kegg_id = line[0][5:]\n",
    "        kegg_gene = line[1][4:]\n",
    "        kegg_id2list_d[kegg_id].append(kegg_gene)\n",
    "\n",
    "with open(os.path.join(ONTO_PATH, \"kegg_gene_id.txt\"), \"w\") as out_f:\n",
    "    print(\"\\t\".join([\"KEGG_ID\", \"KEGG_NAME\", \"Term\"]), file=out_f)\n",
    "    for key, value in kegg_id2list_d.items():\n",
    "        print(\"\\t\".join([key, kegg_id2name_d[key], \",\".join(value)]), file=out_f)\n",
    "\n",
    "print(\"ALL DONE\")"
   ]
  },
  {
   "cell_type": "code",
   "execution_count": null,
   "id": "7bce1416-5aea-43b6-add0-4112d74038ca",
   "metadata": {},
   "outputs": [],
   "source": []
  },
  {
   "cell_type": "code",
   "execution_count": null,
   "id": "17c54636-903d-4de4-8fec-930911728d6b",
   "metadata": {},
   "outputs": [],
   "source": []
  },
  {
   "cell_type": "code",
   "execution_count": null,
   "id": "b7bb6ca3-63cc-45ea-88b5-ceb3b74fca5f",
   "metadata": {},
   "outputs": [],
   "source": [
    "# OLD\n",
    "# returns GTF with essential columns such as \"feature\", \"seqname\", \"start\", \"end\"\n",
    "# alongside the names of any optional keys which appeared in the attribute column\n",
    "raw_gtf = read_gtf(os.path.join(ONTO_PATH, \"GCF_004118075.2_ASM411807v2_genomic.gtf\"), result_type=\"pandas\")\n",
    "gtf_gene = raw_gtf[raw_gtf[\"feature\"] == \"gene\"].copy()\n",
    "\n",
    "gtf_gene[\"GeneID\"] = gtf_gene[\"db_xref\"].str[7:]\n",
    "\n",
    "gtf_gene[['start', 'end', 'gene_id', 'db_xref', 'GeneID']].to_csv(os.path.join(ONTO_PATH, \"gtf_gene_id.txt\"), sep=\"\\t\", index=0)"
   ]
  }
 ],
 "metadata": {
  "kernelspec": {
   "display_name": "Python 3 (ipykernel)",
   "language": "python",
   "name": "python3"
  },
  "language_info": {
   "codemirror_mode": {
    "name": "ipython",
    "version": 3
   },
   "file_extension": ".py",
   "mimetype": "text/x-python",
   "name": "python",
   "nbconvert_exporter": "python",
   "pygments_lexer": "ipython3",
   "version": "3.10.0"
  }
 },
 "nbformat": 4,
 "nbformat_minor": 5
}
