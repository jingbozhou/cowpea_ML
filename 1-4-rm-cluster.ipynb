{
 "cells": [
  {
   "cell_type": "code",
   "execution_count": 21,
   "id": "f3ff5459-fded-443d-898d-f8841ad22158",
   "metadata": {},
   "outputs": [],
   "source": [
    "import os\n",
    "import numpy as np\n",
    "import pandas as pd\n",
    "\n",
    "from mpire import WorkerPool\n",
    "\n",
    "RAW_PATH = \"/data2/zhoujb/project/cowpea_project/rawData/\"\n",
    "SNP_PATH = \"/data2/zhoujb/project/cowpea_project/basedXPXLR/snpDir/\"\n",
    "CLUSTER_PATH = \"/data2/zhoujb/project/cowpea_project/basedXPXLR/SNPMMSeqCluster/\""
   ]
  },
  {
   "cell_type": "code",
   "execution_count": 23,
   "id": "5368ddb2-67d6-4135-92ce-555c26af1b2b",
   "metadata": {},
   "outputs": [
    {
     "name": "stderr",
     "output_type": "stream",
     "text": [
      "100%|████████████████████████████████████████████████████████████████████████████████████████████████████████████████████████████████████████████████████████████████████████████████████████| 902/902 [00:00<00:00, 3447.85it/s]\n"
     ]
    },
    {
     "name": "stdout",
     "output_type": "stream",
     "text": [
      "ALL DONE\n"
     ]
    }
   ],
   "source": [
    "def getFinalCluser(input_file):\n",
    "    input_df = pd.read_table(os.path.join(CLUSTER_PATH, input_file), header=None, names=[\"Class_Rep\", \"Sample_name\"])\n",
    "    input_count = input_df.groupby(\"Class_Rep\").count()\n",
    "    input_count[\"Sample_pertange\"] = input_count[\"Sample_name\"] / len(input_df)\n",
    "    max_pertange = input_count[\"Sample_pertange\"].max()\n",
    "    if max_pertange > 0.5:\n",
    "        input_df.to_csv(os.path.join(CLUSTER_PATH, \"{}.final\".format(input_file.split(\".\")[0])), sep=\"\\t\", index=0)\n",
    "    return\n",
    "\n",
    "if __name__ == \"__main__\":\n",
    "    file_list = [x for x in os.listdir(CLUSTER_PATH) if x.endswith(\"_cluster.tsv\")]\n",
    "    with WorkerPool(n_jobs=48) as pool:\n",
    "        pool.map(getFinalCluser, file_list, progress_bar=True)\n",
    "\n",
    "print(\"ALL DONE\")"
   ]
  }
 ],
 "metadata": {
  "kernelspec": {
   "display_name": "Python 3 (ipykernel)",
   "language": "python",
   "name": "python3"
  },
  "language_info": {
   "codemirror_mode": {
    "name": "ipython",
    "version": 3
   },
   "file_extension": ".py",
   "mimetype": "text/x-python",
   "name": "python",
   "nbconvert_exporter": "python",
   "pygments_lexer": "ipython3",
   "version": "3.11.4"
  }
 },
 "nbformat": 4,
 "nbformat_minor": 5
}
